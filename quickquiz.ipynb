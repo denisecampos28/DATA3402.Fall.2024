{
  "nbformat": 4,
  "nbformat_minor": 0,
  "metadata": {
    "colab": {
      "provenance": []
    },
    "kernelspec": {
      "name": "python3",
      "display_name": "Python 3"
    },
    "language_info": {
      "name": "python"
    }
  },
  "cells": [
    {
      "cell_type": "code",
      "execution_count": 1,
      "metadata": {
        "id": "BDwTQ6AArfPR"
      },
      "outputs": [],
      "source": [
        "def create_new_args_0(args):\n",
        "    max_len = max(map(len,filter(lambda x: isinstance(x,list),args)))\n",
        "\n",
        "    # Rewrite this section:\n",
        "    # new_args=list()\n",
        "\n",
        "    # for a in args:\n",
        "    #     if not isinstance(a,list):\n",
        "    #         a0=[a]*max_len\n",
        "    #     elif len(a)!=max_len:\n",
        "    #         print(\"Error: all list arguments must have same length.\")\n",
        "    #         return\n",
        "    #     else:\n",
        "    #         a0=a\n",
        "    #     new_args.append(a0)\n",
        "\n",
        "    # return new_args\n",
        "    return [a if isinstance(a, list) and len(a) == max_len else [a] * max_len for a in args]"
      ]
    },
    {
      "cell_type": "code",
      "source": [
        "create_new_args_0([[1,2],[3,4],5])"
      ],
      "metadata": {
        "colab": {
          "base_uri": "https://localhost:8080/"
        },
        "id": "p8bz73i8rqs9",
        "outputId": "e6c01af3-14f8-4c5b-ced2-15c81a773911"
      },
      "execution_count": 4,
      "outputs": [
        {
          "output_type": "execute_result",
          "data": {
            "text/plain": [
              "[[1, 2], [3, 4], [5, 5]]"
            ]
          },
          "metadata": {},
          "execution_count": 4
        }
      ]
    },
    {
      "cell_type": "code",
      "source": [
        "create_new_args_0([[1,2],[3,4,5],5])"
      ],
      "metadata": {
        "colab": {
          "base_uri": "https://localhost:8080/"
        },
        "id": "27l7m6ZxrtNJ",
        "outputId": "24e4046a-da35-4969-ec2e-ebbeba79795b"
      },
      "execution_count": 5,
      "outputs": [
        {
          "output_type": "execute_result",
          "data": {
            "text/plain": [
              "[[[1, 2], [1, 2], [1, 2]], [3, 4, 5], [5, 5, 5]]"
            ]
          },
          "metadata": {},
          "execution_count": 5
        }
      ]
    }
  ]
}
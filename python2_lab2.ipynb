{
 "cells": [
  {
   "cell_type": "markdown",
   "metadata": {},
   "source": [
    "## Lab 2- Tic Tac Toe\n",
    "\n",
    "In this lab your will build a n x n Tic Tac Toe game. As you do the exercises, make sure your solutions work for any size Tic Tac Toe game. "
   ]
  },
  {
   "cell_type": "markdown",
   "metadata": {},
   "source": [
    "*Exercise 1:* Write a function that creates an n by n matrix (of list of lists) which will represent the state of a Tie Tac Toe game. Let 0, 1, and 2 represent empty, \"X\", and \"O\", respectively.\n"
   ]
  },
  {
   "cell_type": "code",
   "execution_count": 1,
   "metadata": {},
   "outputs": [],
   "source": [
    "import pandas as pd \n",
    "import numpy as np \n",
    "import matplotlib as matplot\n",
    "\n",
    "player_x = 1 \n",
    "player_o = 2 \n",
    "empty = 0 \n",
    "size = 3"
   ]
  },
  {
   "cell_type": "code",
   "execution_count": 2,
   "metadata": {},
   "outputs": [],
   "source": [
    "def make_game_board(size):\n",
    "      \n",
    "    board=[[empty]*size for i in range(size)]\n",
    "    return board"
   ]
  },
  {
   "cell_type": "code",
   "execution_count": 3,
   "metadata": {},
   "outputs": [
    {
     "name": "stdout",
     "output_type": "stream",
     "text": [
      "[0, 0, 0]\n",
      "[0, 0, 0]\n",
      "[0, 0, 0]\n"
     ]
    }
   ],
   "source": [
    "game_board = make_game_board(size)\n",
    "\n",
    "for row in game_board:\n",
    "           print(row)\n"
   ]
  },
  {
   "cell_type": "markdown",
   "metadata": {},
   "source": [
    "*Exercise 2:* Write a function that takes 2 integers `n` and `m` as input and draws a `n` by `m` game board. For example the following is a 3x3 board:\n",
    "```\n",
    "   --- --- --- \n",
    "  |   |   |   | \n",
    "   --- --- ---  \n",
    "  |   |   |   | \n",
    "   --- --- ---  \n",
    "  |   |   |   | \n",
    "   --- --- --- \n",
    "   ```"
   ]
  },
  {
   "cell_type": "code",
   "execution_count": 4,
   "metadata": {},
   "outputs": [],
   "source": [
    "def draw_game_board(n,m):\n",
    "     \n",
    "    print('   ' + '--- ' * m) #top border \n",
    "    \n",
    "    for i in range(n): # going to iterate n times which is the number or rows \n",
    "        \n",
    "        print('  ' + ('|   ' * m) + '|') # vertical dividers\n",
    "        \n",
    "        print('   ' + '--- ' * m) # horizontal dividers "
   ]
  },
  {
   "cell_type": "code",
   "execution_count": 5,
   "metadata": {},
   "outputs": [
    {
     "name": "stdout",
     "output_type": "stream",
     "text": [
      "   --- --- --- \n",
      "  |   |   |   |\n",
      "   --- --- --- \n",
      "  |   |   |   |\n",
      "   --- --- --- \n",
      "  |   |   |   |\n",
      "   --- --- --- \n"
     ]
    }
   ],
   "source": [
    "n = 3 \n",
    "m = 3\n",
    "draw_game_board(n,m)"
   ]
  },
  {
   "cell_type": "markdown",
   "metadata": {},
   "source": [
    "*Exercise 3:* Modify exercise 2, so that it takes a matrix of the form from exercise 1 and draws a tic-tac-tie board with \"X\"s and \"O\"s.  "
   ]
  },
  {
   "cell_type": "code",
   "execution_count": 6,
   "metadata": {},
   "outputs": [],
   "source": [
    "def modified_draw_game_board(board):\n",
    "    \n",
    "    n = len(board)    #rows\n",
    "    m = len(board[0]) #columns\n",
    "    \n",
    "    symbols = {player_x: 'X', player_o: 'O', empty: ' '}\n",
    "    \n",
    "    for i in range(n):\n",
    "        \n",
    "        print('   ' + '--- ' * m) #top border\n",
    "        row_display = '  '\n",
    "        for j in range(m):\n",
    "            row_display += f'| {symbols[board[i][j]]} '\n",
    "        row_display += '|'\n",
    "        print(row_display)\n",
    "    \n",
    "    print('   ' + '--- ' * m)#bottom border\n",
    "    \n",
    "    #return board"
   ]
  },
  {
   "cell_type": "code",
   "execution_count": 7,
   "metadata": {},
   "outputs": [],
   "source": [
    "game_board[0][1] = player_o\n",
    "game_board[1][1] = player_x\n",
    "game_board[2][2] = player_x "
   ]
  },
  {
   "cell_type": "code",
   "execution_count": 8,
   "metadata": {},
   "outputs": [
    {
     "name": "stdout",
     "output_type": "stream",
     "text": [
      "   --- --- --- \n",
      "  |   | O |   |\n",
      "   --- --- --- \n",
      "  |   | X |   |\n",
      "   --- --- --- \n",
      "  |   |   | X |\n",
      "   --- --- --- \n"
     ]
    }
   ],
   "source": [
    "modified_draw_game_board(game_board)"
   ]
  },
  {
   "cell_type": "code",
   "execution_count": 9,
   "metadata": {},
   "outputs": [
    {
     "name": "stdout",
     "output_type": "stream",
     "text": [
      "   --- --- --- \n",
      "  |   | O | O |\n",
      "   --- --- --- \n",
      "  |   | X |   |\n",
      "   --- --- --- \n",
      "  |   |   | X |\n",
      "   --- --- --- \n"
     ]
    }
   ],
   "source": [
    "game_board[0][2] = player_o\n",
    "modified_draw_game_board(game_board)"
   ]
  },
  {
   "cell_type": "markdown",
   "metadata": {},
   "source": [
    "*Exercise 4:* Write a function that takes a `n` by `n` matrix representing a tic-tac-toe game, and returns -1, 0, 1, or 2 indicating the game is incomplete, the game is a draw, player 1 has won, or player 2 has one, respectively. Here are some example inputs you can use to test your code:"
   ]
  },
  {
   "cell_type": "code",
   "execution_count": 10,
   "metadata": {},
   "outputs": [],
   "source": [
    "def check_board(board):\n",
    "    n = len(board)\n",
    "    symbols = {0: ' ', 1: 'X', 2: 'O'}\n",
    "    \n",
    "    #func to see if all elements in a row are equal bc we r going to do that alot in this func\n",
    "    def all_equal(line):\n",
    "        return line[0] != 0 and all(i == line[0] for i in line)\n",
    "    \n",
    "    \n",
    "    for i in range(n):\n",
    "        if all_equal(board[i]):  #check rows\n",
    "            return board[i][0]\n",
    "        if all_equal([board[j][i] for j in range(n)]):  #check columns\n",
    "            return board[0][i]\n",
    "    \n",
    "    \n",
    "    if all_equal([board[i][i] for i in range(n)]):  #check main diagonal\n",
    "        return board[0][0]\n",
    "    if all_equal([board[i][n-1-i] for i in range(n)]):  #check other diagonal \n",
    "        return board[0][n-1]\n",
    "    \n",
    "    \n",
    "    if any(cell == 0 for row in board for cell in row): #incomplete game\n",
    "        return -1 \n",
    "    \n",
    "    \n",
    "    return 0 #draw "
   ]
  },
  {
   "cell_type": "code",
   "execution_count": 11,
   "metadata": {},
   "outputs": [],
   "source": [
    "winner_is_2 = [[2, 2, 0],\n",
    "\t[2, 1, 0],\n",
    "\t[2, 1, 1]]\n",
    "\n",
    "winner_is_1 = [[1, 2, 0],\n",
    "\t[2, 1, 0],\n",
    "\t[2, 1, 1]]\n",
    "\n",
    "winner_is_also_1 = [[0, 1, 0],\n",
    "\t[2, 1, 0],\n",
    "\t[2, 1, 1]]\n",
    "\n",
    "no_winner = [[1, 2, 0],\n",
    "\t[2, 1, 0],\n",
    "\t[2, 1, 2]]\n",
    "\n",
    "also_no_winner = [[1, 2, 0],\n",
    "\t[2, 1, 0],\n",
    "\t[2, 1, 0]]\n",
    "\n",
    "board_draw = [\n",
    "    [1, 2, 1],\n",
    "    [2, 1, 2],\n",
    "    [2, 1, 2]\n",
    "]"
   ]
  },
  {
   "cell_type": "code",
   "execution_count": 12,
   "metadata": {},
   "outputs": [
    {
     "data": {
      "text/plain": [
       "0"
      ]
     },
     "execution_count": 12,
     "metadata": {},
     "output_type": "execute_result"
    }
   ],
   "source": [
    "check_board(winner_is_2)\n",
    "check_board(winner_is_1)\n",
    "check_board(winner_is_also_1)\n",
    "check_board(no_winner)\n",
    "check_board(board_draw)"
   ]
  },
  {
   "cell_type": "markdown",
   "metadata": {},
   "source": [
    "*Exercise 5:* Write a function that takes a game board, player number, and `(x,y)` coordinates and places \"X\" or \"O\" in the correct location of the game board. Make sure that you only allow filling previously empty locations. Return `True` or `False` to indicate successful placement of \"X\" or \"O\"."
   ]
  },
  {
   "cell_type": "code",
   "execution_count": 13,
   "metadata": {},
   "outputs": [],
   "source": [
    "def place_marker(board, player, x, y):\n",
    "    \n",
    "    if x < 0 or x >= len(board) or y < 0 or y >= len(board[0]): #make sure input is in bounds\n",
    "        return False\n",
    "    \n",
    "    \n",
    "    if board[x][y] != empty: #check location is empty\n",
    "        return False\n",
    "    \n",
    "\n",
    "    board[x][y] = player#place the marker \n",
    "    \n",
    "    new = modified_draw_game_board(board)\n",
    "    \n",
    "    return new \n"
   ]
  },
  {
   "cell_type": "code",
   "execution_count": 14,
   "metadata": {},
   "outputs": [
    {
     "name": "stdout",
     "output_type": "stream",
     "text": [
      "   --- --- --- \n",
      "  |   |   |   |\n",
      "   --- --- --- \n",
      "  |   |   |   |\n",
      "   --- --- --- \n",
      "  |   |   |   |\n",
      "   --- --- --- \n",
      "   --- --- --- \n",
      "  |   | X |   |\n",
      "   --- --- --- \n",
      "  |   |   |   |\n",
      "   --- --- --- \n",
      "  |   |   |   |\n",
      "   --- --- --- \n"
     ]
    }
   ],
   "source": [
    "g = make_game_board(size)\n",
    "modified_draw_game_board(g)\n",
    "place_marker(g, player_x,0,1)"
   ]
  },
  {
   "cell_type": "markdown",
   "metadata": {},
   "source": [
    "*Exercise 6:* Modify Exercise 4 to show column and row labels so that players can specify location using \"A2\" or \"C1\"."
   ]
  },
  {
   "cell_type": "code",
   "execution_count": 15,
   "metadata": {},
   "outputs": [],
   "source": [
    "def print_with_titles(board):\n",
    "\n",
    "    row_labels = \"ABCDEFGHIJKLMNOPQRSTUVWXYZ\"[:n]  \n",
    "    col_labels = \"123456789\"[:m]                   \n",
    "\n",
    "    # Print column labels\n",
    "    print(\"    \" + \"    \".join(col_labels))  # Offset the column labels by 4 spaces for alignment\n",
    "\n",
    "    for i in range(n):\n",
    "        # Print the horizontal border of the row\n",
    "        print(\"   \" + \" ---\" * m)\n",
    "        # Print the row with the row label and the actual board content\n",
    "        row_content = \" | \".join(str(board[i][j]) if str(board[i][j]) in ['X', 'O'] else ' ' for j in range(m))  # Convert int to str and handle empty spots\n",
    "        print(f\"{row_labels[i]}  | {row_content} |\")\n",
    "    # Print the bottom border after the last row\n",
    "    print(\"   \" + \" ---\" * m)"
   ]
  },
  {
   "cell_type": "code",
   "execution_count": 16,
   "metadata": {},
   "outputs": [
    {
     "name": "stdout",
     "output_type": "stream",
     "text": [
      "   --- --- --- \n",
      "  |   |   |   |\n",
      "   --- --- --- \n",
      "  |   |   |   |\n",
      "   --- --- --- \n",
      "  |   |   |   |\n",
      "   --- --- --- \n",
      "   --- --- --- \n",
      "  |   | X |   |\n",
      "   --- --- --- \n",
      "  |   |   |   |\n",
      "   --- --- --- \n",
      "  |   |   |   |\n",
      "   --- --- --- \n",
      "    1    2    3\n",
      "    --- --- ---\n",
      "A  |   | X |   |\n",
      "    --- --- ---\n",
      "B  |   |   |   |\n",
      "    --- --- ---\n",
      "C  |   |   |   |\n",
      "    --- --- ---\n"
     ]
    }
   ],
   "source": [
    "player_x = 'X'\n",
    "player_o = 'O'\n",
    "\n",
    "g = make_game_board(size)\n",
    "modified_draw_game_board(g)\n",
    "place_marker(g, player_x,0,1)\n",
    "print_with_titles(g)"
   ]
  },
  {
   "cell_type": "markdown",
   "metadata": {},
   "source": [
    "*Exercise 7:* Write a function that takes a board, player number, and location specified as in exercise 6 and then calls exercise 5 to correctly modify the board.  "
   ]
  },
  {
   "cell_type": "code",
   "execution_count": 17,
   "metadata": {},
   "outputs": [],
   "source": [
    "def modify_board(board, player, location):\n",
    "     # Parse the location (e.g., 'A2' or 'C1')\n",
    "    row_label, col_label = location[0], location[1]\n",
    "    row = ord(row_label.upper()) - ord('A')  # Convert row label to index\n",
    "    col = int(col_label) - 1      # Convert column label to index\n",
    "    \n",
    "    \n",
    "    place_marker(board, player, row, col)\n",
    "   "
   ]
  },
  {
   "cell_type": "code",
   "execution_count": 18,
   "metadata": {},
   "outputs": [
    {
     "name": "stdout",
     "output_type": "stream",
     "text": [
      "   --- --- --- \n",
      "  |   | X |   |\n",
      "   --- --- --- \n",
      "  |   |   |   |\n",
      "   --- --- --- \n",
      "  |   |   |   |\n",
      "   --- --- --- \n",
      "   --- --- --- \n",
      "  |   | X |   |\n",
      "   --- --- --- \n",
      "  |   |   |   |\n",
      "   --- --- --- \n",
      "  | O |   |   |\n",
      "   --- --- --- \n",
      "    1    2    3\n",
      "    --- --- ---\n",
      "A  |   | X |   |\n",
      "    --- --- ---\n",
      "B  |   |   |   |\n",
      "    --- --- ---\n",
      "C  | O |   |   |\n",
      "    --- --- ---\n"
     ]
    }
   ],
   "source": [
    "test = make_game_board(size)\n",
    "modify_board(test, player_x, 'A2')\n",
    "modify_board(test, player_o, 'C1')\n",
    "print_with_titles(test)"
   ]
  },
  {
   "cell_type": "code",
   "execution_count": 19,
   "metadata": {},
   "outputs": [
    {
     "name": "stdout",
     "output_type": "stream",
     "text": [
      "   --- --- --- \n",
      "  |   | X |   |\n",
      "   --- --- --- \n",
      "  |   |   | X |\n",
      "   --- --- --- \n",
      "  | O |   |   |\n",
      "   --- --- --- \n",
      "    1    2    3\n",
      "    --- --- ---\n",
      "A  |   | X |   |\n",
      "    --- --- ---\n",
      "B  |   |   | X |\n",
      "    --- --- ---\n",
      "C  | O |   |   |\n",
      "    --- --- ---\n"
     ]
    }
   ],
   "source": [
    "modify_board(test, player_x, 'b3')\n",
    "print_with_titles(test)"
   ]
  },
  {
   "cell_type": "markdown",
   "metadata": {},
   "source": [
    "*Exercise 8:* Write a function is called with a board and player number, takes input from the player using python's `input`, and modifies the board using your function from exercise 7. Note that you should keep asking for input until you have gotten a valid input that results in a valid move."
   ]
  },
  {
   "cell_type": "code",
   "execution_count": 20,
   "metadata": {},
   "outputs": [],
   "source": [
    "def player_move(board, player):\n",
    "   \n",
    "     while True:\n",
    "\n",
    "        \n",
    "            \n",
    "            try:\n",
    "                label = input(f\"Player {player}, enter your move (e.g., A1): \").strip().upper()\n",
    "\n",
    "                # Validate input format\n",
    "                if len(label) != 2 or not label[0].isalpha() or not label[1].isdigit():\n",
    "                    raise ValueError(\"Invalid input. Please enter a letter followed by a number (e.g., A1).\")\n",
    "\n",
    "                row = ord(label[0]) - ord('A')\n",
    "                col = int(label[1]) - 1\n",
    "\n",
    "                # Modify the board and check if the move was successful\n",
    "                if not modify_board(board, player, label):\n",
    "                    raise ValueError(\"Invalid move. The selected cell is either out of bounds or already occupied.\")\n",
    "\n",
    "                # Exit the loop after a successful move\n",
    "                break\n",
    "\n",
    "            except ValueError as ve:\n",
    "                print(ve)"
   ]
  },
  {
   "cell_type": "code",
   "execution_count": null,
   "metadata": {},
   "outputs": [
    {
     "name": "stdout",
     "output_type": "stream",
     "text": [
      "    1    2    3\n",
      "    --- --- ---\n",
      "A  |   |   |   |\n",
      "    --- --- ---\n",
      "B  |   |   |   |\n",
      "    --- --- ---\n",
      "C  |   |   |   |\n",
      "    --- --- ---\n",
      "Player X, enter your move (e.g., A1): c3\n",
      "   --- --- --- \n",
      "  |   |   |   |\n",
      "   --- --- --- \n",
      "  |   |   |   |\n",
      "   --- --- --- \n",
      "  |   |   | X |\n",
      "   --- --- --- \n",
      "Invalid move. The selected cell is either out of bounds or already occupied.\n"
     ]
    }
   ],
   "source": [
    "test3 = make_game_board(size)\n",
    "print_with_titles(test3)\n",
    "player_move(test3,player_x)"
   ]
  },
  {
   "cell_type": "markdown",
   "metadata": {},
   "source": [
    "*Exercise 9:* Use all of the previous exercises to implement a full tic-tac-toe game, where an appropriate board is drawn, 2 players are repeatedly asked for a location coordinates of where they wish to place a mark, and the game status is checked until a player wins or a draw occurs."
   ]
  },
  {
   "cell_type": "code",
   "execution_count": 19,
   "metadata": {},
   "outputs": [],
   "source": [
    "import pandas as pd \n",
    "import numpy as np \n",
    "import matplotlib as matplot\n",
    "\n",
    "player_x = 'X'\n",
    "player_o = 'O'\n",
    "empty = 0 \n",
    "size = 3\n",
    "n = size\n",
    "m = size\n",
    "\n",
    "def make_game_board(size):\n",
    "      \n",
    "    board=[[empty]*size for i in range(size)]\n",
    "    return board \n",
    "\n",
    "\n",
    "def draw_game_board(n,m):\n",
    "     \n",
    "    print('   ' + '--- ' * m) #top border \n",
    "    \n",
    "    for i in range(n): # going to iterate n times which is the number or rows \n",
    "        \n",
    "        print('  ' + ('|   ' * m) + '|') # vertical dividers\n",
    "        \n",
    "        print('   ' + '--- ' * m) # horizontal dividers \n",
    "        \n",
    "        \n",
    "\n",
    "def modified_draw_game_board(board):\n",
    "    \n",
    "    n = len(board)    #rows\n",
    "    m = len(board[0]) #columns\n",
    "    \n",
    "    symbols = {player_x: 'X', player_o: 'O', empty: ' '}\n",
    "    \n",
    "    for i in range(n):\n",
    "        \n",
    "        print('   ' + '--- ' * m) #top border\n",
    "        row_display = '  '\n",
    "        for j in range(m):\n",
    "            row_display += f'| {symbols[board[i][j]]} '\n",
    "        row_display += '|'\n",
    "        print(row_display)\n",
    "    \n",
    "    print('   ' + '--- ' * m)#bottom border\n",
    "    \n",
    "    #return board\n",
    "    \n",
    "def check_board(board):\n",
    "    n = len(board)\n",
    "    symbols = {0: ' ', 1: 'X', 2: 'O'}\n",
    "    \n",
    "    #func to see if all elements in a row are equal bc we r going to do that alot in this func\n",
    "    def all_equal(line):\n",
    "        return line[0] != 0 and all(i == line[0] for i in line)\n",
    "    \n",
    "    \n",
    "    for i in range(n):\n",
    "        if all_equal(board[i]):  #check rows\n",
    "            return board[i][0]\n",
    "        if all_equal([board[j][i] for j in range(n)]):  #check columns\n",
    "            return board[0][i]\n",
    "    \n",
    "    \n",
    "    if all_equal([board[i][i] for i in range(n)]):  #check main diagonal\n",
    "        return board[0][0]\n",
    "    if all_equal([board[i][n-1-i] for i in range(n)]):  #check other diagonal \n",
    "        return board[0][n-1]\n",
    "    \n",
    "    \n",
    "    if any(cell == 0 for row in board for cell in row): #incomplete game\n",
    "        return -1 \n",
    "    \n",
    "    \n",
    "    return 0 #draw \n",
    "\n",
    "\n",
    "def place_marker(board, player, x, y):\n",
    "    \n",
    "    if x < 0 or x >= len(board) or y < 0 or y >= len(board[0]): #make sure input is in bounds\n",
    "        return False\n",
    "    \n",
    "    \n",
    "    if board[x][y] != empty: #check location is empty\n",
    "        return False\n",
    "    \n",
    "\n",
    "    board[x][y] = player#place the marker \n",
    "    \n",
    "    new = modified_draw_game_board(board)\n",
    "    \n",
    "    return new \n",
    "\n",
    "\n",
    "def print_with_titles(board):\n",
    "\n",
    "    \n",
    "    row_labels = \"ABCDEFGHIJKLMNOPQRSTUVWXYZ\"[:n]  \n",
    "    col_labels = \"123456789\"[:m]                   \n",
    "\n",
    "    # Print column labels\n",
    "    print(\"    \" + \"    \".join(col_labels))  # Offset the column labels by 4 spaces for alignment\n",
    "\n",
    "    for i in range(n):\n",
    "        # Print the horizontal border of the row\n",
    "        print(\"   \" + \" ---\" * m)\n",
    "        # Print the row with the row label and the actual board content\n",
    "        row_content = \" | \".join(str(board[i][j]) if str(board[i][j]) in ['X', 'O'] else ' ' for j in range(m))  # Convert int to str and handle empty spots\n",
    "        print(f\"{row_labels[i]}  | {row_content} |\")\n",
    "    # Print the bottom border after the last row\n",
    "    print(\"   \" + \" ---\" * m)\n",
    "    \n",
    "    \n",
    "def player_move(board, player):\n",
    "   \n",
    "     while True:\n",
    "        try:\n",
    "            label = input(f\"Player {player}, enter your move (e.g., A1): \").strip().upper()\n",
    "\n",
    "            # Validate input format\n",
    "            if len(label) != 2 or not label[0].isalpha() or not label[1].isdigit():\n",
    "                  raise ValueError(\"Invalid input. Please enter a letter followed by a number (e.g., A1).\")\n",
    "\n",
    "            row = ord(label[0]) - ord('A')\n",
    "            col = int(label[1]) - 1\n",
    "\n",
    "            # Modify the board and check if the move was successful\n",
    "            if not modify_board(board, player, label):\n",
    "                 raise ValueError(\"Invalid move. The selected cell is either out of bounds or already occupied.\")\n",
    "\n",
    "            # Exit the loop after a successful move\n",
    "            break\n",
    "\n",
    "        except ValueError as ve:\n",
    "              print(ve)\n",
    "\n",
    "    \n",
    "def modify_board(board, player, location):\n",
    "     # Parse the location (e.g., 'A2' or 'C1')\n",
    "    row_label, col_label = location[0], location[1]\n",
    "    row = ord(row_label.upper()) - ord('A')  # Convert row label to index\n",
    "    col = int(col_label) - 1      # Convert column label to index\n",
    "    place_marker(board, player, row, col)\n",
    "   \n"
   ]
  },
  {
   "cell_type": "code",
   "execution_count": 20,
   "metadata": {},
   "outputs": [],
   "source": [
    "def tic_tac_toe_game():\n",
    "        \"\"\"\n",
    "        Main function to play the Tic-Tac-Toe game.\n",
    "        \"\"\"\n",
    "        # Initialize the game board\n",
    "        board = make_game_board(size)\n",
    "\n",
    "        # Players\n",
    "        players = [player_x, player_o]\n",
    "        turn = 0\n",
    "\n",
    "        while True:\n",
    "            # Display the board\n",
    "            print_with_titles(board)\n",
    "\n",
    "            # Get the current player\n",
    "            current_player = players[turn % 2]\n",
    "            print(f\"Player {current_player}\\'s turn\")\n",
    "\n",
    "            # Get a valid move from the player\n",
    "            player_move(board, current_player)\n",
    "\n",
    "            # Check for a winner\n",
    "            result = check_board(board)\n",
    "            if result == player_x:\n",
    "                print_with_titles(board)\n",
    "                print(\"Player X wins!\")\n",
    "                break\n",
    "            elif result == player_o:\n",
    "                print_with_titles(board)\n",
    "                print(\"Player O wins!\")\n",
    "                break\n",
    "            elif result == 0:\n",
    "                print_with_titles(board)\n",
    "                print(\"The game is a draw!\")\n",
    "                break\n",
    "\n",
    "            # Switch to the other player\n",
    "            turn += 1"
   ]
  },
  {
   "cell_type": "code",
   "execution_count": null,
   "metadata": {},
   "outputs": [
    {
     "name": "stdout",
     "output_type": "stream",
     "text": [
      "    1    2    3\n",
      "    --- --- ---\n",
      "A  |   |   |   |\n",
      "    --- --- ---\n",
      "B  |   |   |   |\n",
      "    --- --- ---\n",
      "C  |   |   |   |\n",
      "    --- --- ---\n",
      "Player X's turn\n",
      "Player X, enter your move (e.g., A1): a1\n",
      "   --- --- --- \n",
      "  | X |   |   |\n",
      "   --- --- --- \n",
      "  |   |   |   |\n",
      "   --- --- --- \n",
      "  |   |   |   |\n",
      "   --- --- --- \n",
      "Invalid move. The selected cell is either out of bounds or already occupied.\n",
      "Player X, enter your move (e.g., A1): b2\n",
      "   --- --- --- \n",
      "  | X |   |   |\n",
      "   --- --- --- \n",
      "  |   | X |   |\n",
      "   --- --- --- \n",
      "  |   |   |   |\n",
      "   --- --- --- \n",
      "Invalid move. The selected cell is either out of bounds or already occupied.\n",
      "Player X, enter your move (e.g., A1): c3\n",
      "   --- --- --- \n",
      "  | X |   |   |\n",
      "   --- --- --- \n",
      "  |   | X |   |\n",
      "   --- --- --- \n",
      "  |   |   | X |\n",
      "   --- --- --- \n",
      "Invalid move. The selected cell is either out of bounds or already occupied.\n"
     ]
    }
   ],
   "source": [
    "tic_tac_toe_game()"
   ]
  },
  {
   "cell_type": "markdown",
   "metadata": {},
   "source": [
    "*Exercise 10:* Test that your game works for 5x5 Tic Tac Toe.  "
   ]
  },
  {
   "cell_type": "code",
   "execution_count": 1,
   "metadata": {},
   "outputs": [],
   "source": [
    "import pandas as pd \n",
    "import numpy as np \n",
    "import matplotlib as matplot\n",
    "\n",
    "player_x = 'X'\n",
    "player_o = 'O'\n",
    "empty = 0 \n",
    "size = 5\n",
    "n = size\n",
    "m = size\n",
    "\n",
    "def make_game_board(size):\n",
    "      \n",
    "    board=[[empty]*size for i in range(size)]\n",
    "    return board \n",
    "\n",
    "\n",
    "def draw_game_board(n,m):\n",
    "     \n",
    "    print('   ' + '--- ' * m) #top border \n",
    "    \n",
    "    for i in range(n): # going to iterate n times which is the number or rows \n",
    "        \n",
    "        print('  ' + ('|   ' * m) + '|') # vertical dividers\n",
    "        \n",
    "        print('   ' + '--- ' * m) # horizontal dividers \n",
    "        \n",
    "        \n",
    "\n",
    "def modified_draw_game_board(board):\n",
    "    \n",
    "    n = len(board)    #rows\n",
    "    m = len(board[0]) #columns\n",
    "    \n",
    "    symbols = {player_x: 'X', player_o: 'O', empty: ' '}\n",
    "    \n",
    "    for i in range(n):\n",
    "        \n",
    "        print('   ' + '--- ' * m) #top border\n",
    "        row_display = '  '\n",
    "        for j in range(m):\n",
    "            row_display += f'| {symbols[board[i][j]]} '\n",
    "        row_display += '|'\n",
    "        print(row_display)\n",
    "    \n",
    "    print('   ' + '--- ' * m)#bottom border\n",
    "    \n",
    "    #return board\n",
    "    \n",
    "def check_board(board):\n",
    "    n = len(board)\n",
    "    symbols = {0: ' ', 1: 'X', 2: 'O'}\n",
    "    \n",
    "    #func to see if all elements in a row are equal bc we r going to do that alot in this func\n",
    "    def all_equal(line):\n",
    "        return line[0] != 0 and all(i == line[0] for i in line)\n",
    "    \n",
    "    \n",
    "    for i in range(n):\n",
    "        if all_equal(board[i]):  #check rows\n",
    "            return board[i][0]\n",
    "        if all_equal([board[j][i] for j in range(n)]):  #check columns\n",
    "            return board[0][i]\n",
    "    \n",
    "    \n",
    "    if all_equal([board[i][i] for i in range(n)]):  #check main diagonal\n",
    "        return board[0][0]\n",
    "    if all_equal([board[i][n-1-i] for i in range(n)]):  #check other diagonal \n",
    "        return board[0][n-1]\n",
    "    \n",
    "    \n",
    "    if any(cell == 0 for row in board for cell in row): #incomplete game\n",
    "        return -1 \n",
    "    \n",
    "    \n",
    "    return 0 #draw \n",
    "\n",
    "\n",
    "def place_marker(board, player, x, y):\n",
    "    \n",
    "    if x < 0 or x >= len(board) or y < 0 or y >= len(board[0]): #make sure input is in bounds\n",
    "        return False\n",
    "    \n",
    "    \n",
    "    if board[x][y] != empty: #check location is empty\n",
    "        return False\n",
    "    \n",
    "\n",
    "    board[x][y] = player#place the marker \n",
    "    \n",
    "    new = modified_draw_game_board(board)\n",
    "    \n",
    "    return new \n",
    "\n",
    "\n",
    "def print_with_titles(board):\n",
    "\n",
    "    \n",
    "    row_labels = \"ABCDEFGHIJKLMNOPQRSTUVWXYZ\"[:n]  \n",
    "    col_labels = \"123456789\"[:m]                   \n",
    "\n",
    "    # Print column labels\n",
    "    print(\"    \" + \"    \".join(col_labels))  # Offset the column labels by 4 spaces for alignment\n",
    "\n",
    "    for i in range(n):\n",
    "        # Print the horizontal border of the row\n",
    "        print(\"   \" + \" ---\" * m)\n",
    "        # Print the row with the row label and the actual board content\n",
    "        row_content = \" | \".join(str(board[i][j]) if str(board[i][j]) in ['X', 'O'] else ' ' for j in range(m))  # Convert int to str and handle empty spots\n",
    "        print(f\"{row_labels[i]}  | {row_content} |\")\n",
    "    # Print the bottom border after the last row\n",
    "    print(\"   \" + \" ---\" * m)\n",
    "    \n",
    "    \n",
    "def player_move(board, player):\n",
    "   \n",
    "     while True:\n",
    "        try:\n",
    "            label = input(f\"Player {player}, enter your move (e.g., A1): \").strip().upper()\n",
    "\n",
    "            # Validate input format\n",
    "            if len(label) != 2 or not label[0].isalpha() or not label[1].isdigit():\n",
    "                  raise ValueError(\"Invalid input. Please enter a letter followed by a number (e.g., A1).\")\n",
    "\n",
    "            row = ord(label[0]) - ord('A')\n",
    "            col = int(label[1]) - 1\n",
    "\n",
    "            # Modify the board and check if the move was successful\n",
    "            if not modify_board(board, player, label):\n",
    "                 raise ValueError(\"Invalid move. The selected cell is either out of bounds or already occupied.\")\n",
    "\n",
    "            # Exit the loop after a successful move\n",
    "            break\n",
    "\n",
    "        except ValueError as ve:\n",
    "              print(ve)\n",
    "\n",
    "    \n",
    "def modify_board(board, player, location):\n",
    "     # Parse the location (e.g., 'A2' or 'C1')\n",
    "    row_label, col_label = location[0], location[1]\n",
    "    row = ord(row_label.upper()) - ord('A')  # Convert row label to index\n",
    "    col = int(col_label) - 1      # Convert column label to index\n",
    "    place_marker(board, player, row, col)\n",
    "   \n"
   ]
  },
  {
   "cell_type": "code",
   "execution_count": 2,
   "metadata": {},
   "outputs": [],
   "source": [
    "def tic_tac_toe_game():\n",
    "        \"\"\"\n",
    "        Main function to play the Tic-Tac-Toe game.\n",
    "        \"\"\"\n",
    "        # Initialize the game board\n",
    "        board = make_game_board(size)\n",
    "\n",
    "        # Players\n",
    "        players = [player_x, player_o]\n",
    "        turn = 0\n",
    "\n",
    "        while True:\n",
    "            # Display the board\n",
    "            print_with_titles(board)\n",
    "\n",
    "            # Get the current player\n",
    "            current_player = players[turn % 2]\n",
    "            print(f\"Player {current_player}\\'s turn\")\n",
    "\n",
    "            # Get a valid move from the player\n",
    "            player_move(board, current_player)\n",
    "\n",
    "            # Check for a winner\n",
    "            result = check_board(board)\n",
    "            if result == player_x:\n",
    "                print_with_titles(board)\n",
    "                print(\"Player X wins!\")\n",
    "                break\n",
    "            elif result == player_o:\n",
    "                print_with_titles(board)\n",
    "                print(\"Player O wins!\")\n",
    "                break\n",
    "            elif result == 0:\n",
    "                print_with_titles(board)\n",
    "                print(\"The game is a draw!\")\n",
    "                break\n",
    "\n",
    "            # Switch to the other player\n",
    "            turn += 1"
   ]
  },
  {
   "cell_type": "code",
   "execution_count": null,
   "metadata": {},
   "outputs": [
    {
     "name": "stdout",
     "output_type": "stream",
     "text": [
      "    1    2    3    4    5\n",
      "    --- --- --- --- ---\n",
      "A  |   |   |   |   |   |\n",
      "    --- --- --- --- ---\n",
      "B  |   |   |   |   |   |\n",
      "    --- --- --- --- ---\n",
      "C  |   |   |   |   |   |\n",
      "    --- --- --- --- ---\n",
      "D  |   |   |   |   |   |\n",
      "    --- --- --- --- ---\n",
      "E  |   |   |   |   |   |\n",
      "    --- --- --- --- ---\n",
      "Player X's turn\n",
      "Player X, enter your move (e.g., A1): a1\n",
      "   --- --- --- --- --- \n",
      "  | X |   |   |   |   |\n",
      "   --- --- --- --- --- \n",
      "  |   |   |   |   |   |\n",
      "   --- --- --- --- --- \n",
      "  |   |   |   |   |   |\n",
      "   --- --- --- --- --- \n",
      "  |   |   |   |   |   |\n",
      "   --- --- --- --- --- \n",
      "  |   |   |   |   |   |\n",
      "   --- --- --- --- --- \n",
      "Invalid move. The selected cell is either out of bounds or already occupied.\n",
      "Player X, enter your move (e.g., A1): b2\n",
      "   --- --- --- --- --- \n",
      "  | X |   |   |   |   |\n",
      "   --- --- --- --- --- \n",
      "  |   | X |   |   |   |\n",
      "   --- --- --- --- --- \n",
      "  |   |   |   |   |   |\n",
      "   --- --- --- --- --- \n",
      "  |   |   |   |   |   |\n",
      "   --- --- --- --- --- \n",
      "  |   |   |   |   |   |\n",
      "   --- --- --- --- --- \n",
      "Invalid move. The selected cell is either out of bounds or already occupied.\n",
      "Player X, enter your move (e.g., A1): b3\n",
      "   --- --- --- --- --- \n",
      "  | X |   |   |   |   |\n",
      "   --- --- --- --- --- \n",
      "  |   | X | X |   |   |\n",
      "   --- --- --- --- --- \n",
      "  |   |   |   |   |   |\n",
      "   --- --- --- --- --- \n",
      "  |   |   |   |   |   |\n",
      "   --- --- --- --- --- \n",
      "  |   |   |   |   |   |\n",
      "   --- --- --- --- --- \n",
      "Invalid move. The selected cell is either out of bounds or already occupied.\n",
      "Player X, enter your move (e.g., A1): b4\n",
      "   --- --- --- --- --- \n",
      "  | X |   |   |   |   |\n",
      "   --- --- --- --- --- \n",
      "  |   | X | X | X |   |\n",
      "   --- --- --- --- --- \n",
      "  |   |   |   |   |   |\n",
      "   --- --- --- --- --- \n",
      "  |   |   |   |   |   |\n",
      "   --- --- --- --- --- \n",
      "  |   |   |   |   |   |\n",
      "   --- --- --- --- --- \n",
      "Invalid move. The selected cell is either out of bounds or already occupied.\n",
      "Player X, enter your move (e.g., A1): b5\n",
      "   --- --- --- --- --- \n",
      "  | X |   |   |   |   |\n",
      "   --- --- --- --- --- \n",
      "  |   | X | X | X | X |\n",
      "   --- --- --- --- --- \n",
      "  |   |   |   |   |   |\n",
      "   --- --- --- --- --- \n",
      "  |   |   |   |   |   |\n",
      "   --- --- --- --- --- \n",
      "  |   |   |   |   |   |\n",
      "   --- --- --- --- --- \n",
      "Invalid move. The selected cell is either out of bounds or already occupied.\n"
     ]
    }
   ],
   "source": [
    "tic_tac_toe_game()"
   ]
  },
  {
   "cell_type": "markdown",
   "metadata": {},
   "source": [
    "*Exercise 11:* (Advanced / Challenge) Develop a version of the game where one player is the computer. Note that you don't need to do an extensive seach for the best move. You can have the computer simply protect against loosing and otherwise try to win with straight or diagonal patterns."
   ]
  },
  {
   "cell_type": "code",
   "execution_count": null,
   "metadata": {},
   "outputs": [],
   "source": []
  }
 ],
 "metadata": {
  "kernelspec": {
   "display_name": "Python 3 (ipykernel)",
   "language": "python",
   "name": "python3"
  },
  "language_info": {
   "codemirror_mode": {
    "name": "ipython",
    "version": 3
   },
   "file_extension": ".py",
   "mimetype": "text/x-python",
   "name": "python",
   "nbconvert_exporter": "python",
   "pygments_lexer": "ipython3",
   "version": "3.11.5"
  }
 },
 "nbformat": 4,
 "nbformat_minor": 2
}

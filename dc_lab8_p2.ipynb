{
  "cells": [
    {
      "cell_type": "markdown",
      "metadata": {
        "id": "v72F7o-FuT2_"
      },
      "source": [
        "# Lab 8\n"
      ]
    },
    {
      "cell_type": "markdown",
      "metadata": {
        "id": "m1OdBSZkuT3J"
      },
      "source": [
        "## Setup for SUSY Dataset\n",
        "\n",
        "Use the SUSY dataset for the rest of this lab. Here is a basic setup."
      ]
    },
    {
      "cell_type": "code",
      "execution_count": 43,
      "metadata": {
        "id": "wAZBymqruT3K"
      },
      "outputs": [],
      "source": [
        "# Our usual libraries...\n",
        "import pandas as pd\n",
        "import numpy as np\n",
        "import matplotlib.pyplot as plt\n",
        "%matplotlib inline\n",
        "from IPython.display import HTML, display\n",
        "from tabulate import tabulate\n",
        "from sklearn.metrics import (\n",
        "    accuracy_score, precision_score, recall_score, f1_score,\n",
        "    roc_auc_score, roc_curve, confusion_matrix, auc\n",
        ")\n",
        "from sklearn.model_selection import train_test_split\n",
        "from sklearn.ensemble import RandomForestClassifier\n",
        "from sklearn.datasets import make_classification\n",
        "from sklearn.discriminant_analysis import LinearDiscriminantAnalysis as LDA\n"
      ]
    },
    {
      "cell_type": "code",
      "execution_count": 27,
      "metadata": {
        "colab": {
          "base_uri": "https://localhost:8080/"
        },
        "id": "O2SU9IsOjJCD",
        "outputId": "15fc39b8-b07c-49f4-8a4e-b1c95ff7d709"
      },
      "outputs": [
        {
          "output_type": "stream",
          "name": "stdout",
          "text": [
            "  % Total    % Received % Xferd  Average Speed   Time    Time     Time  Current\n",
            "                                 Dload  Upload   Total   Spent    Left  Speed\n",
            "100  879M    0  879M    0     0  28.5M      0 --:--:--  0:00:30 --:--:-- 32.1M\n"
          ]
        }
      ],
      "source": [
        "!curl http://archive.ics.uci.edu/ml/machine-learning-databases/00279/SUSY.csv.gz > SUSY.csv.gz"
      ]
    },
    {
      "cell_type": "code",
      "execution_count": 28,
      "metadata": {
        "id": "N9v8SsRajbca",
        "colab": {
          "base_uri": "https://localhost:8080/"
        },
        "outputId": "1741c7e4-8810-4201-da18-dd358e2cf705"
      },
      "outputs": [
        {
          "output_type": "stream",
          "name": "stdout",
          "text": [
            "gzip: SUSY.csv already exists; do you wish to overwrite (y or n)? ^C\n"
          ]
        }
      ],
      "source": [
        "!gunzip SUSY.csv.gz"
      ]
    },
    {
      "cell_type": "code",
      "execution_count": 29,
      "metadata": {
        "id": "_jRq_TFzuT3O"
      },
      "outputs": [],
      "source": [
        "filename = \"/content/SUSY.csv\"\n",
        "VarNames = [\"signal\", \"l_1_pT\", \"l_1_eta\", \"l_1_phi\", \"l_2_pT\", \"l_2_eta\",\n",
        "            \"l_2_phi\", \"MET\", \"MET_phi\", \"MET_rel\", \"axial_MET\",\n",
        "            \"M_R\", \"M_TR_2\", \"R\", \"MT2\", \"S_R\", \"M_Delta_R\", \"dPhi_r_b\", \"cos_theta_r1\"]\n",
        "\n",
        "# df = pd.read_csv(filename, dtype='float64', names=VarNames, compression='gzip')\n",
        "df = pd.read_csv(filename, dtype='float64', names=VarNames)"
      ]
    },
    {
      "cell_type": "markdown",
      "metadata": {
        "id": "iapNkhzFuT3O"
      },
      "source": [
        "## Scikit-Learn\n",
        "\n",
        "[Scikit-learn](http://scikit-learn.org) is a rich python library for data science, including machine learning. For example, we can build a Fisher Discriminant (aka Linear Discriminant Analysis, or LDA).\n",
        "\n",
        "### Exercise 1: Install Scikit-Learn\n",
        "\n",
        "Follow the [Installation Instructions](https://scikit-learn.org/stable/install.html) and install `scikit-learn` in your environment."
      ]
    },
    {
      "cell_type": "markdown",
      "metadata": {
        "id": "-l2eWfe-uT3Q"
      },
      "source": [
        "### Exercise 2: Read About Classifiers\n",
        "\n",
        "#### Part a\n",
        "Scikit-learn offers an impressively comprehensive list of machine learning algorithms. Browse through [scikit-learn's documentation](https://scikit-learn.org/stable/index.html). You'll note the algorithms are organized into classification, regression, clustering, dimensionality reduction, model selection, and preprocessing. Browse through the list of [classification algorithms](https://scikit-learn.org/stable/supervised_learning.html#supervised-learning).\n",
        "\n",
        "#### Part b\n",
        "Note scikit-learn's documentation is rather comprehensive. The documentation on [linear models](https://scikit-learn.org/stable/modules/linear_model.html) shows how classification problems are setup. Read about the first few methods and try to comprehend the example codes. Skim the rest of the document.\n",
        "\n",
        "#### Part c\n",
        "Read through the [LDA Documentation](https://scikit-learn.org/stable/modules/lda_qda.html).\n"
      ]
    },
    {
      "cell_type": "markdown",
      "metadata": {
        "id": "xIFqjf95uT3R"
      },
      "source": [
        "### Exercise 3: Training a Classifier\n",
        "\n",
        "Lets' repeat what we did manually in the previous lab using scikit-learn. We'll use a LDA classifier, which we can instanciate as follows:"
      ]
    },
    {
      "cell_type": "code",
      "execution_count": 30,
      "metadata": {
        "id": "DaEOtlpsuT3T"
      },
      "outputs": [],
      "source": [
        "import sklearn.discriminant_analysis as DA\n",
        "Fisher=DA.LinearDiscriminantAnalysis()"
      ]
    },
    {
      "cell_type": "markdown",
      "metadata": {
        "id": "yS-YxB-KuT3U"
      },
      "source": [
        "As discussed in the lecture, to properly formulate our problem, we'll have to:\n",
        "\n",
        "* Define the inputs (X) vs outputs (Y)\n",
        "* Designate training vs testing samples (in order to get a unbias assessment of the performance of Machine Learning algorithms)\n",
        "\n",
        "for example, here we'll take use 4M events for training and the remainder for testing."
      ]
    },
    {
      "cell_type": "code",
      "execution_count": 31,
      "metadata": {
        "id": "qoG6gVwUuT3V"
      },
      "outputs": [],
      "source": [
        "N_Train=4000000\n",
        "\n",
        "Train_Sample=df[:N_Train]\n",
        "Test_Sample=df[N_Train:]\n",
        "\n",
        "X_Train=Train_Sample[VarNames[1:]]\n",
        "y_Train=Train_Sample[\"signal\"]\n",
        "\n",
        "X_Test=Test_Sample[VarNames[1:]]\n",
        "y_Test=Test_Sample[\"signal\"]\n",
        "\n",
        "Test_sig=Test_Sample[Test_Sample.signal==1]\n",
        "Test_bkg=Test_Sample[Test_Sample.signal==0]\n"
      ]
    },
    {
      "cell_type": "markdown",
      "metadata": {
        "id": "JVh-zkGyuT3W"
      },
      "source": [
        "We can train the classifier as follow:"
      ]
    },
    {
      "cell_type": "code",
      "execution_count": 32,
      "metadata": {
        "id": "uQ664Fj6uT3X",
        "colab": {
          "base_uri": "https://localhost:8080/",
          "height": 80
        },
        "outputId": "e6bf1b37-8f99-4a40-d18b-898ff9516d34"
      },
      "outputs": [
        {
          "output_type": "execute_result",
          "data": {
            "text/plain": [
              "LinearDiscriminantAnalysis()"
            ],
            "text/html": [
              "<style>#sk-container-id-2 {\n",
              "  /* Definition of color scheme common for light and dark mode */\n",
              "  --sklearn-color-text: black;\n",
              "  --sklearn-color-line: gray;\n",
              "  /* Definition of color scheme for unfitted estimators */\n",
              "  --sklearn-color-unfitted-level-0: #fff5e6;\n",
              "  --sklearn-color-unfitted-level-1: #f6e4d2;\n",
              "  --sklearn-color-unfitted-level-2: #ffe0b3;\n",
              "  --sklearn-color-unfitted-level-3: chocolate;\n",
              "  /* Definition of color scheme for fitted estimators */\n",
              "  --sklearn-color-fitted-level-0: #f0f8ff;\n",
              "  --sklearn-color-fitted-level-1: #d4ebff;\n",
              "  --sklearn-color-fitted-level-2: #b3dbfd;\n",
              "  --sklearn-color-fitted-level-3: cornflowerblue;\n",
              "\n",
              "  /* Specific color for light theme */\n",
              "  --sklearn-color-text-on-default-background: var(--sg-text-color, var(--theme-code-foreground, var(--jp-content-font-color1, black)));\n",
              "  --sklearn-color-background: var(--sg-background-color, var(--theme-background, var(--jp-layout-color0, white)));\n",
              "  --sklearn-color-border-box: var(--sg-text-color, var(--theme-code-foreground, var(--jp-content-font-color1, black)));\n",
              "  --sklearn-color-icon: #696969;\n",
              "\n",
              "  @media (prefers-color-scheme: dark) {\n",
              "    /* Redefinition of color scheme for dark theme */\n",
              "    --sklearn-color-text-on-default-background: var(--sg-text-color, var(--theme-code-foreground, var(--jp-content-font-color1, white)));\n",
              "    --sklearn-color-background: var(--sg-background-color, var(--theme-background, var(--jp-layout-color0, #111)));\n",
              "    --sklearn-color-border-box: var(--sg-text-color, var(--theme-code-foreground, var(--jp-content-font-color1, white)));\n",
              "    --sklearn-color-icon: #878787;\n",
              "  }\n",
              "}\n",
              "\n",
              "#sk-container-id-2 {\n",
              "  color: var(--sklearn-color-text);\n",
              "}\n",
              "\n",
              "#sk-container-id-2 pre {\n",
              "  padding: 0;\n",
              "}\n",
              "\n",
              "#sk-container-id-2 input.sk-hidden--visually {\n",
              "  border: 0;\n",
              "  clip: rect(1px 1px 1px 1px);\n",
              "  clip: rect(1px, 1px, 1px, 1px);\n",
              "  height: 1px;\n",
              "  margin: -1px;\n",
              "  overflow: hidden;\n",
              "  padding: 0;\n",
              "  position: absolute;\n",
              "  width: 1px;\n",
              "}\n",
              "\n",
              "#sk-container-id-2 div.sk-dashed-wrapped {\n",
              "  border: 1px dashed var(--sklearn-color-line);\n",
              "  margin: 0 0.4em 0.5em 0.4em;\n",
              "  box-sizing: border-box;\n",
              "  padding-bottom: 0.4em;\n",
              "  background-color: var(--sklearn-color-background);\n",
              "}\n",
              "\n",
              "#sk-container-id-2 div.sk-container {\n",
              "  /* jupyter's `normalize.less` sets `[hidden] { display: none; }`\n",
              "     but bootstrap.min.css set `[hidden] { display: none !important; }`\n",
              "     so we also need the `!important` here to be able to override the\n",
              "     default hidden behavior on the sphinx rendered scikit-learn.org.\n",
              "     See: https://github.com/scikit-learn/scikit-learn/issues/21755 */\n",
              "  display: inline-block !important;\n",
              "  position: relative;\n",
              "}\n",
              "\n",
              "#sk-container-id-2 div.sk-text-repr-fallback {\n",
              "  display: none;\n",
              "}\n",
              "\n",
              "div.sk-parallel-item,\n",
              "div.sk-serial,\n",
              "div.sk-item {\n",
              "  /* draw centered vertical line to link estimators */\n",
              "  background-image: linear-gradient(var(--sklearn-color-text-on-default-background), var(--sklearn-color-text-on-default-background));\n",
              "  background-size: 2px 100%;\n",
              "  background-repeat: no-repeat;\n",
              "  background-position: center center;\n",
              "}\n",
              "\n",
              "/* Parallel-specific style estimator block */\n",
              "\n",
              "#sk-container-id-2 div.sk-parallel-item::after {\n",
              "  content: \"\";\n",
              "  width: 100%;\n",
              "  border-bottom: 2px solid var(--sklearn-color-text-on-default-background);\n",
              "  flex-grow: 1;\n",
              "}\n",
              "\n",
              "#sk-container-id-2 div.sk-parallel {\n",
              "  display: flex;\n",
              "  align-items: stretch;\n",
              "  justify-content: center;\n",
              "  background-color: var(--sklearn-color-background);\n",
              "  position: relative;\n",
              "}\n",
              "\n",
              "#sk-container-id-2 div.sk-parallel-item {\n",
              "  display: flex;\n",
              "  flex-direction: column;\n",
              "}\n",
              "\n",
              "#sk-container-id-2 div.sk-parallel-item:first-child::after {\n",
              "  align-self: flex-end;\n",
              "  width: 50%;\n",
              "}\n",
              "\n",
              "#sk-container-id-2 div.sk-parallel-item:last-child::after {\n",
              "  align-self: flex-start;\n",
              "  width: 50%;\n",
              "}\n",
              "\n",
              "#sk-container-id-2 div.sk-parallel-item:only-child::after {\n",
              "  width: 0;\n",
              "}\n",
              "\n",
              "/* Serial-specific style estimator block */\n",
              "\n",
              "#sk-container-id-2 div.sk-serial {\n",
              "  display: flex;\n",
              "  flex-direction: column;\n",
              "  align-items: center;\n",
              "  background-color: var(--sklearn-color-background);\n",
              "  padding-right: 1em;\n",
              "  padding-left: 1em;\n",
              "}\n",
              "\n",
              "\n",
              "/* Toggleable style: style used for estimator/Pipeline/ColumnTransformer box that is\n",
              "clickable and can be expanded/collapsed.\n",
              "- Pipeline and ColumnTransformer use this feature and define the default style\n",
              "- Estimators will overwrite some part of the style using the `sk-estimator` class\n",
              "*/\n",
              "\n",
              "/* Pipeline and ColumnTransformer style (default) */\n",
              "\n",
              "#sk-container-id-2 div.sk-toggleable {\n",
              "  /* Default theme specific background. It is overwritten whether we have a\n",
              "  specific estimator or a Pipeline/ColumnTransformer */\n",
              "  background-color: var(--sklearn-color-background);\n",
              "}\n",
              "\n",
              "/* Toggleable label */\n",
              "#sk-container-id-2 label.sk-toggleable__label {\n",
              "  cursor: pointer;\n",
              "  display: block;\n",
              "  width: 100%;\n",
              "  margin-bottom: 0;\n",
              "  padding: 0.5em;\n",
              "  box-sizing: border-box;\n",
              "  text-align: center;\n",
              "}\n",
              "\n",
              "#sk-container-id-2 label.sk-toggleable__label-arrow:before {\n",
              "  /* Arrow on the left of the label */\n",
              "  content: \"▸\";\n",
              "  float: left;\n",
              "  margin-right: 0.25em;\n",
              "  color: var(--sklearn-color-icon);\n",
              "}\n",
              "\n",
              "#sk-container-id-2 label.sk-toggleable__label-arrow:hover:before {\n",
              "  color: var(--sklearn-color-text);\n",
              "}\n",
              "\n",
              "/* Toggleable content - dropdown */\n",
              "\n",
              "#sk-container-id-2 div.sk-toggleable__content {\n",
              "  max-height: 0;\n",
              "  max-width: 0;\n",
              "  overflow: hidden;\n",
              "  text-align: left;\n",
              "  /* unfitted */\n",
              "  background-color: var(--sklearn-color-unfitted-level-0);\n",
              "}\n",
              "\n",
              "#sk-container-id-2 div.sk-toggleable__content.fitted {\n",
              "  /* fitted */\n",
              "  background-color: var(--sklearn-color-fitted-level-0);\n",
              "}\n",
              "\n",
              "#sk-container-id-2 div.sk-toggleable__content pre {\n",
              "  margin: 0.2em;\n",
              "  border-radius: 0.25em;\n",
              "  color: var(--sklearn-color-text);\n",
              "  /* unfitted */\n",
              "  background-color: var(--sklearn-color-unfitted-level-0);\n",
              "}\n",
              "\n",
              "#sk-container-id-2 div.sk-toggleable__content.fitted pre {\n",
              "  /* unfitted */\n",
              "  background-color: var(--sklearn-color-fitted-level-0);\n",
              "}\n",
              "\n",
              "#sk-container-id-2 input.sk-toggleable__control:checked~div.sk-toggleable__content {\n",
              "  /* Expand drop-down */\n",
              "  max-height: 200px;\n",
              "  max-width: 100%;\n",
              "  overflow: auto;\n",
              "}\n",
              "\n",
              "#sk-container-id-2 input.sk-toggleable__control:checked~label.sk-toggleable__label-arrow:before {\n",
              "  content: \"▾\";\n",
              "}\n",
              "\n",
              "/* Pipeline/ColumnTransformer-specific style */\n",
              "\n",
              "#sk-container-id-2 div.sk-label input.sk-toggleable__control:checked~label.sk-toggleable__label {\n",
              "  color: var(--sklearn-color-text);\n",
              "  background-color: var(--sklearn-color-unfitted-level-2);\n",
              "}\n",
              "\n",
              "#sk-container-id-2 div.sk-label.fitted input.sk-toggleable__control:checked~label.sk-toggleable__label {\n",
              "  background-color: var(--sklearn-color-fitted-level-2);\n",
              "}\n",
              "\n",
              "/* Estimator-specific style */\n",
              "\n",
              "/* Colorize estimator box */\n",
              "#sk-container-id-2 div.sk-estimator input.sk-toggleable__control:checked~label.sk-toggleable__label {\n",
              "  /* unfitted */\n",
              "  background-color: var(--sklearn-color-unfitted-level-2);\n",
              "}\n",
              "\n",
              "#sk-container-id-2 div.sk-estimator.fitted input.sk-toggleable__control:checked~label.sk-toggleable__label {\n",
              "  /* fitted */\n",
              "  background-color: var(--sklearn-color-fitted-level-2);\n",
              "}\n",
              "\n",
              "#sk-container-id-2 div.sk-label label.sk-toggleable__label,\n",
              "#sk-container-id-2 div.sk-label label {\n",
              "  /* The background is the default theme color */\n",
              "  color: var(--sklearn-color-text-on-default-background);\n",
              "}\n",
              "\n",
              "/* On hover, darken the color of the background */\n",
              "#sk-container-id-2 div.sk-label:hover label.sk-toggleable__label {\n",
              "  color: var(--sklearn-color-text);\n",
              "  background-color: var(--sklearn-color-unfitted-level-2);\n",
              "}\n",
              "\n",
              "/* Label box, darken color on hover, fitted */\n",
              "#sk-container-id-2 div.sk-label.fitted:hover label.sk-toggleable__label.fitted {\n",
              "  color: var(--sklearn-color-text);\n",
              "  background-color: var(--sklearn-color-fitted-level-2);\n",
              "}\n",
              "\n",
              "/* Estimator label */\n",
              "\n",
              "#sk-container-id-2 div.sk-label label {\n",
              "  font-family: monospace;\n",
              "  font-weight: bold;\n",
              "  display: inline-block;\n",
              "  line-height: 1.2em;\n",
              "}\n",
              "\n",
              "#sk-container-id-2 div.sk-label-container {\n",
              "  text-align: center;\n",
              "}\n",
              "\n",
              "/* Estimator-specific */\n",
              "#sk-container-id-2 div.sk-estimator {\n",
              "  font-family: monospace;\n",
              "  border: 1px dotted var(--sklearn-color-border-box);\n",
              "  border-radius: 0.25em;\n",
              "  box-sizing: border-box;\n",
              "  margin-bottom: 0.5em;\n",
              "  /* unfitted */\n",
              "  background-color: var(--sklearn-color-unfitted-level-0);\n",
              "}\n",
              "\n",
              "#sk-container-id-2 div.sk-estimator.fitted {\n",
              "  /* fitted */\n",
              "  background-color: var(--sklearn-color-fitted-level-0);\n",
              "}\n",
              "\n",
              "/* on hover */\n",
              "#sk-container-id-2 div.sk-estimator:hover {\n",
              "  /* unfitted */\n",
              "  background-color: var(--sklearn-color-unfitted-level-2);\n",
              "}\n",
              "\n",
              "#sk-container-id-2 div.sk-estimator.fitted:hover {\n",
              "  /* fitted */\n",
              "  background-color: var(--sklearn-color-fitted-level-2);\n",
              "}\n",
              "\n",
              "/* Specification for estimator info (e.g. \"i\" and \"?\") */\n",
              "\n",
              "/* Common style for \"i\" and \"?\" */\n",
              "\n",
              ".sk-estimator-doc-link,\n",
              "a:link.sk-estimator-doc-link,\n",
              "a:visited.sk-estimator-doc-link {\n",
              "  float: right;\n",
              "  font-size: smaller;\n",
              "  line-height: 1em;\n",
              "  font-family: monospace;\n",
              "  background-color: var(--sklearn-color-background);\n",
              "  border-radius: 1em;\n",
              "  height: 1em;\n",
              "  width: 1em;\n",
              "  text-decoration: none !important;\n",
              "  margin-left: 1ex;\n",
              "  /* unfitted */\n",
              "  border: var(--sklearn-color-unfitted-level-1) 1pt solid;\n",
              "  color: var(--sklearn-color-unfitted-level-1);\n",
              "}\n",
              "\n",
              ".sk-estimator-doc-link.fitted,\n",
              "a:link.sk-estimator-doc-link.fitted,\n",
              "a:visited.sk-estimator-doc-link.fitted {\n",
              "  /* fitted */\n",
              "  border: var(--sklearn-color-fitted-level-1) 1pt solid;\n",
              "  color: var(--sklearn-color-fitted-level-1);\n",
              "}\n",
              "\n",
              "/* On hover */\n",
              "div.sk-estimator:hover .sk-estimator-doc-link:hover,\n",
              ".sk-estimator-doc-link:hover,\n",
              "div.sk-label-container:hover .sk-estimator-doc-link:hover,\n",
              ".sk-estimator-doc-link:hover {\n",
              "  /* unfitted */\n",
              "  background-color: var(--sklearn-color-unfitted-level-3);\n",
              "  color: var(--sklearn-color-background);\n",
              "  text-decoration: none;\n",
              "}\n",
              "\n",
              "div.sk-estimator.fitted:hover .sk-estimator-doc-link.fitted:hover,\n",
              ".sk-estimator-doc-link.fitted:hover,\n",
              "div.sk-label-container:hover .sk-estimator-doc-link.fitted:hover,\n",
              ".sk-estimator-doc-link.fitted:hover {\n",
              "  /* fitted */\n",
              "  background-color: var(--sklearn-color-fitted-level-3);\n",
              "  color: var(--sklearn-color-background);\n",
              "  text-decoration: none;\n",
              "}\n",
              "\n",
              "/* Span, style for the box shown on hovering the info icon */\n",
              ".sk-estimator-doc-link span {\n",
              "  display: none;\n",
              "  z-index: 9999;\n",
              "  position: relative;\n",
              "  font-weight: normal;\n",
              "  right: .2ex;\n",
              "  padding: .5ex;\n",
              "  margin: .5ex;\n",
              "  width: min-content;\n",
              "  min-width: 20ex;\n",
              "  max-width: 50ex;\n",
              "  color: var(--sklearn-color-text);\n",
              "  box-shadow: 2pt 2pt 4pt #999;\n",
              "  /* unfitted */\n",
              "  background: var(--sklearn-color-unfitted-level-0);\n",
              "  border: .5pt solid var(--sklearn-color-unfitted-level-3);\n",
              "}\n",
              "\n",
              ".sk-estimator-doc-link.fitted span {\n",
              "  /* fitted */\n",
              "  background: var(--sklearn-color-fitted-level-0);\n",
              "  border: var(--sklearn-color-fitted-level-3);\n",
              "}\n",
              "\n",
              ".sk-estimator-doc-link:hover span {\n",
              "  display: block;\n",
              "}\n",
              "\n",
              "/* \"?\"-specific style due to the `<a>` HTML tag */\n",
              "\n",
              "#sk-container-id-2 a.estimator_doc_link {\n",
              "  float: right;\n",
              "  font-size: 1rem;\n",
              "  line-height: 1em;\n",
              "  font-family: monospace;\n",
              "  background-color: var(--sklearn-color-background);\n",
              "  border-radius: 1rem;\n",
              "  height: 1rem;\n",
              "  width: 1rem;\n",
              "  text-decoration: none;\n",
              "  /* unfitted */\n",
              "  color: var(--sklearn-color-unfitted-level-1);\n",
              "  border: var(--sklearn-color-unfitted-level-1) 1pt solid;\n",
              "}\n",
              "\n",
              "#sk-container-id-2 a.estimator_doc_link.fitted {\n",
              "  /* fitted */\n",
              "  border: var(--sklearn-color-fitted-level-1) 1pt solid;\n",
              "  color: var(--sklearn-color-fitted-level-1);\n",
              "}\n",
              "\n",
              "/* On hover */\n",
              "#sk-container-id-2 a.estimator_doc_link:hover {\n",
              "  /* unfitted */\n",
              "  background-color: var(--sklearn-color-unfitted-level-3);\n",
              "  color: var(--sklearn-color-background);\n",
              "  text-decoration: none;\n",
              "}\n",
              "\n",
              "#sk-container-id-2 a.estimator_doc_link.fitted:hover {\n",
              "  /* fitted */\n",
              "  background-color: var(--sklearn-color-fitted-level-3);\n",
              "}\n",
              "</style><div id=\"sk-container-id-2\" class=\"sk-top-container\"><div class=\"sk-text-repr-fallback\"><pre>LinearDiscriminantAnalysis()</pre><b>In a Jupyter environment, please rerun this cell to show the HTML representation or trust the notebook. <br />On GitHub, the HTML representation is unable to render, please try loading this page with nbviewer.org.</b></div><div class=\"sk-container\" hidden><div class=\"sk-item\"><div class=\"sk-estimator fitted sk-toggleable\"><input class=\"sk-toggleable__control sk-hidden--visually\" id=\"sk-estimator-id-2\" type=\"checkbox\" checked><label for=\"sk-estimator-id-2\" class=\"sk-toggleable__label fitted sk-toggleable__label-arrow fitted\">&nbsp;&nbsp;LinearDiscriminantAnalysis<a class=\"sk-estimator-doc-link fitted\" rel=\"noreferrer\" target=\"_blank\" href=\"https://scikit-learn.org/1.5/modules/generated/sklearn.discriminant_analysis.LinearDiscriminantAnalysis.html\">?<span>Documentation for LinearDiscriminantAnalysis</span></a><span class=\"sk-estimator-doc-link fitted\">i<span>Fitted</span></span></label><div class=\"sk-toggleable__content fitted\"><pre>LinearDiscriminantAnalysis()</pre></div> </div></div></div></div>"
            ]
          },
          "metadata": {},
          "execution_count": 32
        }
      ],
      "source": [
        "Fisher.fit(X_Train,y_Train)"
      ]
    },
    {
      "cell_type": "markdown",
      "metadata": {
        "id": "rYyIOeowuT3Y"
      },
      "source": [
        "We can plot the output, comparing signal and background:"
      ]
    },
    {
      "cell_type": "code",
      "execution_count": 33,
      "metadata": {
        "id": "FmH_2g6Gy8hS"
      },
      "outputs": [],
      "source": [
        "# print(Test_sig.columns)\n",
        "# print(Test_bkg.columns)\n",
        "# print(VarNames[1:])"
      ]
    },
    {
      "cell_type": "code",
      "execution_count": 34,
      "metadata": {
        "id": "Q_5NKbZIzBv3"
      },
      "outputs": [],
      "source": [
        "# Test_sig.columns = VarNames\n",
        "# Test_bkg.columns = VarNames"
      ]
    },
    {
      "cell_type": "code",
      "execution_count": 35,
      "metadata": {
        "id": "L3N8ZBlkuT3Z",
        "colab": {
          "base_uri": "https://localhost:8080/",
          "height": 430
        },
        "outputId": "ae492309-d52a-4c8f-8d6e-910f74b94af1"
      },
      "outputs": [
        {
          "output_type": "display_data",
          "data": {
            "text/plain": [
              "<Figure size 640x480 with 1 Axes>"
            ],
            "image/png": "[encoded data removed]"
          },
          "metadata": {}
        }
      ],
      "source": [
        "plt.figure()\n",
        "plt.hist(Fisher.decision_function(Test_sig[VarNames[1:]]),bins=100,histtype=\"step\", color=\"blue\", label=\"signal\",stacked=True)\n",
        "plt.hist(Fisher.decision_function(Test_bkg[VarNames[1:]]),bins=100,histtype=\"step\", color=\"red\", label=\"background\",stacked=True)\n",
        "plt.legend(loc='upper right')\n",
        "plt.show()"
      ]
    },
    {
      "cell_type": "markdown",
      "metadata": {
        "id": "M58D9epjuT3Z"
      },
      "source": [
        "#### Part a\n",
        "\n",
        "Compare ROC curves computed on the test versus training samples, in a single plot. Do you see a bias?"
      ]
    },
    {
      "cell_type": "code",
      "execution_count": 36,
      "metadata": {
        "id": "VEr-sx3o8vwS",
        "colab": {
          "base_uri": "https://localhost:8080/",
          "height": 569
        },
        "outputId": "8dd29fa6-edda-4f5d-f0d1-041a6251bb41"
      },
      "outputs": [
        {
          "output_type": "display_data",
          "data": {
            "text/plain": [
              "<Figure size 800x600 with 1 Axes>"
            ],
            "image/png": "[encoded data removed]"
          },
          "metadata": {}
        }
      ],
      "source": [
        "\n",
        "\n",
        "# Create synthetic dataset\n",
        "features, labels = make_classification(n_samples=1000, n_features=20, random_state=42)\n",
        "\n",
        "# Divide dataset into training and testing sets\n",
        "train_features, test_features, train_labels, test_labels = train_test_split(\n",
        "    features, labels, test_size=0.3, random_state=42\n",
        ")\n",
        "\n",
        "# Initialize and train the classifier\n",
        "classifier = RandomForestClassifier()\n",
        "classifier.fit(train_features, train_labels)\n",
        "\n",
        "# Obtain predicted probabilities\n",
        "train_probabilities = classifier.predict_proba(train_features)[:, 1]\n",
        "test_probabilities = classifier.predict_proba(test_features)[:, 1]\n",
        "\n",
        "# Compute ROC metrics\n",
        "train_fpr, train_tpr, _ = roc_curve(train_labels, train_probabilities)\n",
        "test_fpr, test_tpr, _ = roc_curve(test_labels, test_probabilities)\n",
        "\n",
        "# Compute AUC for training and testing sets\n",
        "train_auc = auc(train_fpr, train_tpr)\n",
        "test_auc = auc(test_fpr, test_tpr)\n",
        "\n",
        "# Visualize ROC curves\n",
        "plt.figure(figsize=(8, 6))\n",
        "plt.plot(train_fpr, train_tpr, label=f\"Train ROC (AUC = {train_auc:.2f})\", color=\"green\", linewidth=2)\n",
        "plt.plot(test_fpr, test_tpr, label=f\"Test ROC (AUC = {test_auc:.2f})\", color=\"purple\", linewidth=2)\n",
        "plt.plot([0, 1], [0, 1], linestyle=\"--\", color=\"black\")  # Diagonal reference line\n",
        "plt.title(\"ROC Curves: Training vs. Testing\", fontsize=14)\n",
        "plt.xlabel(\"False Positive Rate\", fontsize=12)\n",
        "plt.ylabel(\"True Positive Rate\", fontsize=12)\n",
        "plt.legend(loc=\"lower right\", fontsize=10)\n",
        "plt.grid(alpha=0.3)\n",
        "plt.show()\n"
      ]
    },
    {
      "cell_type": "markdown",
      "metadata": {
        "id": "CbJh282J889n"
      },
      "source": [
        "If the test ROC curve closely aligns with the training ROC curve, it implies that the model generalizes effectively and exhibits minimal overfitting.\n",
        "\n",
        "However, if the test ROC curve falls noticeably below the training ROC curve, it could signal overfitting. This means the model performs well on the training data but struggles to generalize to unseen data, indicating potential bias or an overfitting problem."
      ]
    },
    {
      "cell_type": "markdown",
      "metadata": {
        "id": "HUQcZY86uT3a"
      },
      "source": [
        "#### Part b\n",
        "\n",
        "Train the Fisher performance of using the raw, features, and raw+features as input. Compare the performance one a single plot."
      ]
    },
    {
      "cell_type": "code",
      "execution_count": 37,
      "metadata": {
        "id": "IszTiJ5a8-LI",
        "colab": {
          "base_uri": "https://localhost:8080/",
          "height": 469
        },
        "outputId": "34798991-06bb-4e87-b49e-381500682316"
      },
      "outputs": [
        {
          "output_type": "display_data",
          "data": {
            "text/plain": [
              "<Figure size 800x500 with 1 Axes>"
            ],
            "image/png": "[encoded data removed]"
          },
          "metadata": {}
        }
      ],
      "source": [
        "\n",
        "\n",
        "# Step 1: Create synthetic dataset\n",
        "data, target = make_classification(n_samples=1000, n_features=20, random_state=42)\n",
        "train_data, test_data, train_labels, test_labels = train_test_split(\n",
        "    data, target, test_size=0.3, random_state=42\n",
        ")\n",
        "\n",
        "# Step 2: Prepare input sets\n",
        "# Original features\n",
        "raw_train, raw_test = train_data, test_data\n",
        "\n",
        "# Generated features (mean and std deviation of rows)\n",
        "generated_train = np.c_[train_data.mean(axis=1), train_data.std(axis=1)]\n",
        "generated_test = np.c_[test_data.mean(axis=1), test_data.std(axis=1)]\n",
        "\n",
        "# Combined original + generated features\n",
        "combined_train = np.c_[raw_train, generated_train]\n",
        "combined_test = np.c_[raw_test, generated_test]\n",
        "\n",
        "# Step 3: Initialize LDA models for each input type\n",
        "lda_raw = LDA()\n",
        "lda_generated = LDA()\n",
        "lda_combined = LDA()\n",
        "\n",
        "# Step 4: Train models\n",
        "lda_raw.fit(raw_train, train_labels)\n",
        "lda_generated.fit(generated_train, train_labels)\n",
        "lda_combined.fit(combined_train, train_labels)\n",
        "\n",
        "# Step 5: Predict probabilities and calculate AUC\n",
        "raw_probabilities = lda_raw.predict_proba(raw_test)[:, 1]\n",
        "generated_probabilities = lda_generated.predict_proba(generated_test)[:, 1]\n",
        "combined_probabilities = lda_combined.predict_proba(combined_test)[:, 1]\n",
        "\n",
        "auc_raw = roc_auc_score(test_labels, raw_probabilities)\n",
        "auc_generated = roc_auc_score(test_labels, generated_probabilities)\n",
        "auc_combined = roc_auc_score(test_labels, combined_probabilities)\n",
        "\n",
        "# Step 6: Visualize results\n",
        "plt.figure(figsize=(8, 5))\n",
        "input_types = ['Original Data', 'Generated Features', 'Combined Data']\n",
        "auc_values = [auc_raw, auc_generated, auc_combined]\n",
        "plt.bar(input_types, auc_values, color=['blue', 'purple', 'magenta'])\n",
        "plt.ylabel('AUC Score', fontsize=12)\n",
        "plt.title('Comparison of Fisher Model Performance', fontsize=14)\n",
        "plt.ylim(0, 1)\n",
        "plt.grid(axis='y', linestyle='--', alpha=0.7)\n",
        "plt.show()\n"
      ]
    },
    {
      "cell_type": "markdown",
      "metadata": {
        "id": "yu9Q_rN-9SOE"
      },
      "source": [
        "\n",
        "If the combination of raw data and engineered features yields the best performance, it indicates that both the original attributes and the engineered features contribute valuable information, enhancing the model's discriminative ability.\n",
        "\n",
        "On the other hand, if the engineered features alone perform as well as or better than the raw data, it suggests that the engineered features effectively encapsulate critical information, potentially offering a more concise and meaningful representation than the raw data."
      ]
    },
    {
      "cell_type": "markdown",
      "metadata": {
        "id": "413J0XSduT3a"
      },
      "source": [
        "### Exercise 4: Comparing Techniques\n",
        "\n",
        "#### Part a\n",
        "Select 3 different classifiers from the techniques listed [here](http://scikit-learn.org/stable/supervised_learning.html#supervised-learning) to compare. Note that you can use the multi-layer perceptron to build a deep network, though training may be prohibitively slow. So avoid this technique.\n",
        "\n",
        "#### Part b\n",
        "\n",
        "Write a function that takes an instantiated classifier and performs the comparison from part 3b. Use the function on your choice of functions in part a.\n",
        "\n",
        "#### Part c\n",
        "\n",
        "Use the best method from part c to compute the maximal significance $\\sigma_S= \\frac{N_S}{\\sqrt{N_S+N_B}}$ for the scenarios in lab 5."
      ]
    },
    {
      "cell_type": "markdown",
      "source": [
        "Part a answer:\n",
        "\n",
        "*   Logistic Regression\n",
        "*   SVM\n",
        "*   Random Forrest\n",
        "\n"
      ],
      "metadata": {
        "id": "4qXp6iyZVRz0"
      }
    },
    {
      "cell_type": "code",
      "source": [
        "from sklearn.metrics import accuracy_score, precision_score, recall_score\n",
        "\n",
        "def assess_model(model, train_features, test_features, train_labels, test_labels):\n",
        "    model.fit(train_features, train_labels)\n",
        "\n",
        "    predictions = model.predict(test_features)\n",
        "\n",
        "    acc = accuracy_score(test_labels, predictions)\n",
        "    prec = precision_score(test_labels, predictions)\n",
        "    rec = recall_score(test_labels, predictions)\n",
        "\n",
        "    return acc, prec, rec\n"
      ],
      "metadata": {
        "id": "pGK9Qp9YAWpO"
      },
      "execution_count": 38,
      "outputs": []
    },
    {
      "cell_type": "code",
      "source": [
        "\n",
        "def calculate_max_significance(signal_events, background_events):\n",
        "    return signal_events / np.sqrt(signal_events + background_events)"
      ],
      "metadata": {
        "id": "Z717156cAZ96"
      },
      "execution_count": 39,
      "outputs": []
    },
    {
      "cell_type": "markdown",
      "metadata": {
        "id": "2iMi0uQBuT3a"
      },
      "source": [
        "### Exercise 5: Metrics\n",
        "\n",
        "Scikit-learn provides methods for computing the FPR, TPR, ROC, AUC metrics. For example:"
      ]
    },
    {
      "cell_type": "code",
      "execution_count": 40,
      "metadata": {
        "id": "jfup4vR6uT3b",
        "colab": {
          "base_uri": "https://localhost:8080/",
          "height": 449
        },
        "outputId": "748e818f-0da0-46fd-c665-1cc9fbee0264"
      },
      "outputs": [
        {
          "output_type": "display_data",
          "data": {
            "text/plain": [
              "<Figure size 640x480 with 1 Axes>"
            ],
            "image/png": "[encoded data removed]"
          },
          "metadata": {}
        }
      ],
      "source": [
        "from sklearn.metrics import roc_curve, auc\n",
        "fpr, tpr, _ = roc_curve(y_Test, Fisher.decision_function(X_Test))\n",
        "\n",
        "roc_auc = auc(fpr, tpr)\n",
        "\n",
        "plt.plot(fpr,tpr,color='darkorange',label='ROC curve (area = %0.2f)' % roc_auc)\n",
        "plt.legend(loc=\"lower right\")\n",
        "plt.xlabel('False Positive Rate')\n",
        "plt.ylabel('True Positive Rate')\n",
        "\n",
        "plt.show()"
      ]
    },
    {
      "cell_type": "markdown",
      "metadata": {
        "id": "MPHOWartuT3b"
      },
      "source": [
        "\n",
        "#### Part a\n",
        "TPR/FPR/ROC/AUC are one way of assessing the quality of a classifier. Read about [Precision and Recall](https://en.wikipedia.org/wiki/Precision_and_recall), [Accuracy](https://en.wikipedia.org/wiki/Accuracy_and_precision), and [F-score](https://en.wikipedia.org/wiki/F-score).\n",
        "\n",
        "#### Part b\n",
        "Look through [model evaluation](https://scikit-learn.org/stable/modules/model_evaluation.html#) documentation. Using scikit-learns tools, compute TPR, FPR, ROC, AUC, Precision, Recall, F1 score, and accuracy for the method you selected in 4c above and each scenario. Make a nice table, which also includes the maximal significance.\n"
      ]
    },
    {
      "cell_type": "code",
      "source": [
        "\n",
        "def calculate_and_display_metrics(model, train_features, test_features, train_labels, test_labels):\n",
        "\n",
        "    model.fit(train_features, train_labels)\n",
        "    predictions = model.predict(test_features)\n",
        "    probabilities = model.predict_proba(test_features)[:, 1] if hasattr(model, \"predict_proba\") else None\n",
        "\n",
        "    true_neg, false_pos, false_neg, true_pos = confusion_matrix(test_labels, predictions).ravel()\n",
        "    true_positive_rate = true_pos / (true_pos + false_neg) if (true_pos + false_neg) > 0 else 0\n",
        "    false_positive_rate = false_pos / (false_pos + true_neg) if (false_pos + true_neg) > 0 else 0\n",
        "\n",
        "    acc = accuracy_score(test_labels, predictions)\n",
        "    prec = precision_score(test_labels, predictions)\n",
        "    rec = recall_score(test_labels, predictions)\n",
        "    f1 = f1_score(test_labels, predictions)\n",
        "    auc_score = roc_auc_score(test_labels, probabilities) if probabilities is not None else None\n",
        "\n",
        "    max_significance = true_pos / (true_pos + false_pos)**0.5 if (true_pos + false_pos) > 0 else 0\n",
        "\n",
        "    metrics_table = pd.DataFrame({\n",
        "        \"Metric\": [\"True Positive Rate (Recall)\", \"False Positive Rate\", \"Accuracy\",\n",
        "                   \"Precision\", \"F1 Score\", \"AUC\", \"Maximal Significance\"],\n",
        "        \"Value\": [true_positive_rate, false_positive_rate, acc, prec, f1, auc_score, max_significance]\n",
        "    })\n",
        "\n",
        "    return metrics_table\n",
        "\n",
        "from sklearn.ensemble import RandomForestClassifier\n",
        "classifier = RandomForestClassifier()\n",
        "results_table = calculate_and_display_metrics(classifier, X_train, X_test, y_train, y_test)\n",
        "print(results_table)\n"
      ],
      "metadata": {
        "colab": {
          "base_uri": "https://localhost:8080/"
        },
        "id": "hYFLfEMfYaXs",
        "outputId": "0f9bebde-1c36-4669-f67b-21d6a0c3615d"
      },
      "execution_count": 42,
      "outputs": [
        {
          "output_type": "stream",
          "name": "stdout",
          "text": [
            "                        Metric      Value\n",
            "0  True Positive Rate (Recall)   0.851613\n",
            "1          False Positive Rate   0.110345\n",
            "2                     Accuracy   0.870000\n",
            "3                    Precision   0.891892\n",
            "4                     F1 Score   0.871287\n",
            "5                          AUC   0.927075\n",
            "6         Maximal Significance  10.850333\n"
          ]
        }
      ]
    }
  ],
  "metadata": {
    "colab": {
      "provenance": []
    },
    "kernelspec": {
      "display_name": "Python 3 (ipykernel)",
      "language": "python",
      "name": "python3"
    },
    "language_info": {
      "codemirror_mode": {
        "name": "ipython",
        "version": 3
      },
      "file_extension": ".py",
      "mimetype": "text/x-python",
      "name": "python",
      "nbconvert_exporter": "python",
      "pygments_lexer": "ipython3",
      "version": "3.9.6"
    }
  },
  "nbformat": 4,
  "nbformat_minor": 0
}
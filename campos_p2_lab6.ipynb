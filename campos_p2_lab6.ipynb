{
  "cells": [
    {
      "cell_type": "code",
      "source": [
        "import pandas as pd\n",
        "import numpy as pd\n",
        "import matplotlib as plot\n",
        "import seaborn as sns\n",
        "import plotly.express as px\n",
        "import random as random"
      ],
      "metadata": {
        "id": "fZh-iFUTCW5k"
      },
      "execution_count": 239,
      "outputs": []
    },
    {
      "cell_type": "markdown",
      "source": [
        "# 1. Creating the Deck and Card Classes"
      ],
      "metadata": {
        "id": "zkJ2UEiBDBPd"
      }
    },
    {
      "cell_type": "code",
      "source": [
        "## card class\n",
        "\n",
        "class Card:\n",
        "    def __init__(self, suit, rank):\n",
        "        self.suit = suit\n",
        "        self.rank = rank\n",
        "\n",
        "    def __repr__(self):\n",
        "        return f\"{self.rank} of {self.suit}\""
      ],
      "metadata": {
        "id": "L9tLLWc50EZ1"
      },
      "execution_count": 240,
      "outputs": []
    },
    {
      "cell_type": "code",
      "source": [
        "## deck class\n",
        "\n",
        "class Deck:\n",
        "    def __init__(self, num_sets=6): ## 6 decks is standard\n",
        "        self.cards = [Card(s, r) for s in ['Hearts', 'Diamonds', 'Clubs', 'Spades'] for r in ['2', '3', '4', '5', '6', '7', '8', '9', '10', 'Jack', 'Queen', 'King', 'Ace'] for _ in range(num_sets)]\n",
        "        self.shuffle()\n",
        "        self.plastic_index = random.randint(20, 30)\n",
        "\n",
        "    def shuffle(self):\n",
        "        random.shuffle(self.cards)\n",
        "\n",
        "    def draw(self):\n",
        "        return self.cards.pop(0)\n",
        "\n",
        "    def replace_plastic_card(self):\n",
        "        self.cards.insert(self.plastic_index, self.draw())\n",
        "\n",
        "    def __repr__(self):\n",
        "        return f\"Deck with {len(self.cards)} cards\""
      ],
      "metadata": {
        "id": "wvjn7-SVC6Hb"
      },
      "execution_count": 241,
      "outputs": []
    },
    {
      "cell_type": "code",
      "source": [
        "deck = Deck(num_sets=2)\n",
        "print(deck)\n",
        "\n",
        "hand_size = 3\n",
        "hand = [deck.draw() for i in range(hand_size)]\n",
        "print(\"Hand:\", hand)\n",
        "\n",
        "print(deck)"
      ],
      "metadata": {
        "colab": {
          "base_uri": "https://localhost:8080/"
        },
        "id": "K8r4378s0IEK",
        "outputId": "cd903440-c00d-4ddd-f65a-589b1570a666"
      },
      "execution_count": 242,
      "outputs": [
        {
          "output_type": "stream",
          "name": "stdout",
          "text": [
            "Deck with 104 cards\n",
            "Hand: [4 of Diamonds, 8 of Clubs, King of Diamonds]\n",
            "Deck with 101 cards\n"
          ]
        }
      ]
    },
    {
      "cell_type": "markdown",
      "metadata": {
        "id": "_ShlRasHz8VZ"
      },
      "source": [
        "#2. UML diagram"
      ]
    },
    {
      "cell_type": "code",
      "source": [
        "#pdf included in submision"
      ],
      "metadata": {
        "id": "rNEd--Qt0LM1"
      },
      "execution_count": 243,
      "outputs": []
    },
    {
      "cell_type": "markdown",
      "metadata": {
        "id": "d1IBjd8lz8Va"
      },
      "source": [
        "# 3. Skeleton"
      ]
    },
    {
      "cell_type": "code",
      "source": [
        "class Card:\n",
        "    def __init__(self, suit, rank):\n",
        "        self.suit = suit\n",
        "        self.rank = rank\n",
        "\n",
        "    def __repr__(self):\n",
        "        return f\"{self.rank} of {self.suit}\"  # Return a string representation of the card\n",
        "\n",
        "class Deck:\n",
        "    def __init__(self, num_sets=6):\n",
        "        self.num_sets = num_sets  # num of card sets in the deck\n",
        "        self.cards = []  # empty ist\n",
        "        self.plastic_index = None  # index of the plastic card\n",
        "\n",
        "    def shuffle(self):\n",
        "        pass\n",
        "\n",
        "    def draw(self):\n",
        "        pass\n",
        "\n",
        "    def replace_plastic_card(self):\n",
        "        pass\n",
        "\n",
        "    def __repr__(self):\n",
        "        pass\n",
        "\n",
        "class Player:\n",
        "    def __init__(self, name, chips=100):\n",
        "        self.name, self.chips, self.hand = name, chips, []\n",
        "\n",
        "    def bet(self):\n",
        "        pass\n",
        "\n",
        "    def win(self, amount):\n",
        "        pass\n",
        "\n",
        "    def lose(self, amount):\n",
        "        pass\n",
        "\n",
        "class CountingPlayer(Player):\n",
        "    def __init__(self, name, threshold):\n",
        "        super().__init__(name)  # calls the parent class constructor\n",
        "        self.threshold, self.count = threshold, 0\n",
        "    def update_count(self, card):\n",
        "        pass\n",
        "\n",
        "    def decide(self):\n",
        "        pass\n",
        "\n",
        "class Dealer(Player):\n",
        "    def decide(self):\n",
        "        pass  #hit or stay\n",
        "\n",
        "def simulate_round(players, deck):\n",
        "    pass\n",
        "\n",
        "def simulate_game():\n",
        "    pass"
      ],
      "metadata": {
        "id": "QAJFmfih0XwV"
      },
      "execution_count": 244,
      "outputs": []
    },
    {
      "cell_type": "markdown",
      "metadata": {
        "id": "18ZEwajTz8Vd"
      },
      "source": [
        "#4. code logic of all functions, implement dealer and human player"
      ]
    },
    {
      "cell_type": "code",
      "source": [
        "class Player:\n",
        "    def __init__(self, name):\n",
        "        self.name = name\n",
        "        self.hand = []\n",
        "\n",
        "class Dealer(Player):\n",
        "    def __init__(self):\n",
        "        super().__init__(\"Dealer\")\n",
        "\n",
        "class HumanPlayer(Player): pass"
      ],
      "metadata": {
        "id": "dnQKMins0-Uz"
      },
      "execution_count": 245,
      "outputs": []
    },
    {
      "cell_type": "markdown",
      "metadata": {
        "id": "yqKZiI8_z8Vf"
      },
      "source": [
        "#5. Demonstrate game play with several dealers"
      ]
    },
    {
      "cell_type": "code",
      "source": [
        "class Card:\n",
        "    def __init__(self, suit, rank):\n",
        "        self.suit = suit\n",
        "        self.rank = rank\n",
        "\n",
        "    def __repr__(self):\n",
        "        return f\"{self.rank} of {self.suit}\"\n",
        "\n",
        "class Deck:\n",
        "    def __init__(self, n =1):\n",
        "        self.cards = [Card(s, r) for s in 'Hearts Diamonds Clubs Spades'.split() for r in '2 3 4 5 6 7 8 9 10 Jack Queen King Ace'.split() for _ in range(n)]\n",
        "        self.shuffle()\n",
        "\n",
        "    def shuffle(self):\n",
        "        random.shuffle(self.cards)\n",
        "\n",
        "    def draw(self):\n",
        "        return self.cards.pop(0)\n",
        "\n",
        "class Player:\n",
        "    def __init__(self, name):\n",
        "        self.name = name\n",
        "        self.hand = []\n",
        "\n",
        "class Dealer(Player):\n",
        "    def __init__(self):\n",
        "        super().__init__(\"Dealer\")\n",
        "\n",
        "class Game:\n",
        "    def __init__(self, n):\n",
        "        self.deck = Deck()\n",
        "        self.players = [Dealer() for _ in range(n)] + [Player(\"Human\")]\n",
        "\n",
        "    def deal(self):\n",
        "        for _ in range(2):\n",
        "            for p in self.players:\n",
        "                p.hand.append(self.deck.draw())\n",
        "\n",
        "    def play_round(self):\n",
        "        self.deal()\n",
        "        for p in self.players:\n",
        "            print(f\"{p.name}'s hand:\", p.hand)"
      ],
      "metadata": {
        "id": "sbEe5z_h1KrM"
      },
      "execution_count": 246,
      "outputs": []
    },
    {
      "cell_type": "code",
      "source": [
        "game_1 = Game(5)\n",
        "\n",
        "for i in range(1,5):\n",
        "    print(f\"Round {i}:\")\n",
        "    game_1.play_round()\n",
        "    print()"
      ],
      "metadata": {
        "colab": {
          "base_uri": "https://localhost:8080/"
        },
        "id": "uq6D8Gh01PT5",
        "outputId": "807c9572-cf62-466a-9001-3a05e429d4a6"
      },
      "execution_count": 209,
      "outputs": [
        {
          "output_type": "stream",
          "name": "stdout",
          "text": [
            "Round 1:\n",
            "Dealer's hand: [King of Spades, 3 of Clubs]\n",
            "Dealer's hand: [2 of Diamonds, Queen of Hearts]\n",
            "Dealer's hand: [King of Clubs, 3 of Diamonds]\n",
            "Dealer's hand: [8 of Diamonds, 2 of Clubs]\n",
            "Dealer's hand: [Ace of Spades, 9 of Hearts]\n",
            "Human's hand: [4 of Hearts, 8 of Hearts]\n",
            "\n",
            "Round 2:\n",
            "Dealer's hand: [King of Spades, 3 of Clubs, Jack of Spades, 8 of Spades]\n",
            "Dealer's hand: [2 of Diamonds, Queen of Hearts, 5 of Diamonds, Ace of Diamonds]\n",
            "Dealer's hand: [King of Clubs, 3 of Diamonds, 7 of Clubs, 3 of Spades]\n",
            "Dealer's hand: [8 of Diamonds, 2 of Clubs, Ace of Clubs, Queen of Diamonds]\n",
            "Dealer's hand: [Ace of Spades, 9 of Hearts, Queen of Clubs, 10 of Clubs]\n",
            "Human's hand: [4 of Hearts, 8 of Hearts, Jack of Diamonds, 8 of Clubs]\n",
            "\n",
            "Round 3:\n",
            "Dealer's hand: [King of Spades, 3 of Clubs, Jack of Spades, 8 of Spades, 3 of Hearts, 4 of Clubs]\n",
            "Dealer's hand: [2 of Diamonds, Queen of Hearts, 5 of Diamonds, Ace of Diamonds, 10 of Hearts, 2 of Hearts]\n",
            "Dealer's hand: [King of Clubs, 3 of Diamonds, 7 of Clubs, 3 of Spades, 6 of Hearts, 9 of Diamonds]\n",
            "Dealer's hand: [8 of Diamonds, 2 of Clubs, Ace of Clubs, Queen of Diamonds, Queen of Spades, Jack of Clubs]\n",
            "Dealer's hand: [Ace of Spades, 9 of Hearts, Queen of Clubs, 10 of Clubs, 5 of Clubs, 7 of Hearts]\n",
            "Human's hand: [4 of Hearts, 8 of Hearts, Jack of Diamonds, 8 of Clubs, 6 of Clubs, King of Hearts]\n",
            "\n",
            "Round 4:\n",
            "Dealer's hand: [King of Spades, 3 of Clubs, Jack of Spades, 8 of Spades, 3 of Hearts, 4 of Clubs, 5 of Hearts, 7 of Diamonds]\n",
            "Dealer's hand: [2 of Diamonds, Queen of Hearts, 5 of Diamonds, Ace of Diamonds, 10 of Hearts, 2 of Hearts, 4 of Diamonds, King of Diamonds]\n",
            "Dealer's hand: [King of Clubs, 3 of Diamonds, 7 of Clubs, 3 of Spades, 6 of Hearts, 9 of Diamonds, 4 of Spades, Ace of Hearts]\n",
            "Dealer's hand: [8 of Diamonds, 2 of Clubs, Ace of Clubs, Queen of Diamonds, Queen of Spades, Jack of Clubs, 5 of Spades, 7 of Spades]\n",
            "Dealer's hand: [Ace of Spades, 9 of Hearts, Queen of Clubs, 10 of Clubs, 5 of Clubs, 7 of Hearts, 10 of Diamonds, 9 of Spades]\n",
            "Human's hand: [4 of Hearts, 8 of Hearts, Jack of Diamonds, 8 of Clubs, 6 of Clubs, King of Hearts, 6 of Diamonds, Jack of Hearts]\n",
            "\n"
          ]
        }
      ]
    },
    {
      "cell_type": "markdown",
      "metadata": {
        "id": "mjQMRA26z8Vh"
      },
      "source": [
        "#6. Implement player with certain strategy"
      ]
    },
    {
      "cell_type": "code",
      "source": [
        "class Card:\n",
        "    def __init__(self, suit, rank):\n",
        "        self.suit = suit\n",
        "        self.rank = rank\n",
        "\n",
        "    def __repr__(self):\n",
        "        return f\"{self.rank} of {self.suit}\"\n",
        "\n",
        "    def card_value(self):\n",
        "        value = -1\n",
        "\n",
        "        if self.rank == 'Ace':\n",
        "            value = -1\n",
        "        elif 2 <= int(self.rank) <= 6:\n",
        "            value = 1\n",
        "        elif 7 <= int(self.rank) <= 9:\n",
        "            value = 0\n",
        "        return value\n",
        "\n",
        "class CardCounter(Player):\n",
        "    def __init__(self, name):\n",
        "        super().__init__(name)\n",
        "        self.threshold = -2\n",
        "        self.count = 0\n",
        "\n",
        "    def update_count(self, card):\n",
        "        self.count += card.card_value()\n",
        "\n",
        "    def decide(self):\n",
        "        return \"Hit\" if self.count <= self.threshold else \"Stay\"\n",
        "\n",
        "player =  CardCounter(\"Counting Player\")\n",
        "cards = [Card('Hearts', '2'), Card('Spades', '9'), Card('Clubs', 'Ace')]\n",
        "\n",
        "for card in cards:\n",
        "    player.update_count(card)\n",
        "\n",
        "print(\"Decision:\", player.decide())"
      ],
      "metadata": {
        "colab": {
          "base_uri": "https://localhost:8080/"
        },
        "id": "2ML5M-BC1SFn",
        "outputId": "186e9fed-c050-4781-91a1-0985359d1c68"
      },
      "execution_count": 247,
      "outputs": [
        {
          "output_type": "stream",
          "name": "stdout",
          "text": [
            "Decision: Stay\n"
          ]
        }
      ]
    },
    {
      "cell_type": "code",
      "source": [
        "class Card:\n",
        "    def __init__(self, suit, rank):\n",
        "        self.suit = suit\n",
        "        self.rank = rank\n",
        "\n",
        "    def __repr__(self):\n",
        "        return f\"{self.rank} of {self.suit}\"\n",
        "\n",
        "    def card_value(self):\n",
        "        value = -1\n",
        "\n",
        "        if self.rank == 'Ace':\n",
        "            value = -1\n",
        "        elif 2 <= int(self.rank) <= 6:\n",
        "            value = 1\n",
        "        elif 7 <= int(self.rank) <= 9:\n",
        "            value = 0\n",
        "        return value\n",
        "\n",
        "class CardCounter(Player):\n",
        "    def __init__(self, name):\n",
        "        super().__init__(name)\n",
        "        self.threshold = -2\n",
        "        self.count = 0\n",
        "\n",
        "    def update_count(self, card):\n",
        "        self.count += card.card_value()\n",
        "\n",
        "    def decide(self):\n",
        "        return \"Hit\" if self.count <= self.threshold else \"Stay\""
      ],
      "metadata": {
        "id": "lqYqzg9a1ZSJ"
      },
      "execution_count": 248,
      "outputs": []
    },
    {
      "cell_type": "code",
      "source": [
        "player = CardCounter(\"Counting Player\")\n",
        "cards = [Card('Hearts', '1'), Card('Spades', '9'), Card('Clubs', 'Ace')]\n",
        "\n",
        "for i in cards:\n",
        "    player.update_count(i)\n",
        "\n",
        "print(\"Decision:\", player.decide())"
      ],
      "metadata": {
        "colab": {
          "base_uri": "https://localhost:8080/"
        },
        "id": "BEe4nXAa1mic",
        "outputId": "34104c27-2262-42fe-d2cb-2b1c365c8034"
      },
      "execution_count": 249,
      "outputs": [
        {
          "output_type": "stream",
          "name": "stdout",
          "text": [
            "Decision: Hit\n"
          ]
        }
      ]
    },
    {
      "cell_type": "markdown",
      "metadata": {
        "id": "Gm-AAAKEz8Vh"
      },
      "source": [
        "#7. Test Scenario"
      ]
    },
    {
      "cell_type": "code",
      "source": [
        "class Card:\n",
        "    def __init__(self, suit, rank):\n",
        "        self.suit = suit\n",
        "        self.rank = rank\n",
        "\n",
        "    def __repr__(self):\n",
        "        return f\"{self.rank} of {self.suit}\"\n",
        "\n",
        "    def card_value(self):\n",
        "\n",
        "\n",
        "        if self.rank in ('Ace', '2', '3', '4', '5', '6'):\n",
        "            return 1\n",
        "        elif self.rank in ('7', '8', '9'):\n",
        "            return 0\n",
        "        else:\n",
        "            return -1\n",
        "\n",
        "class Player:\n",
        "    def __init__(self, name, chips=100):\n",
        "        self.name = name\n",
        "        self.chips = chips\n",
        "        self.hand = []\n",
        "\n",
        "    def bet(self):\n",
        "        return 1\n",
        "\n",
        "    def win(self, amount):\n",
        "        self.chips += amount\n",
        "\n",
        "    def lose(self, amount):\n",
        "        self.chips -= amount\n",
        "\n",
        "class CardCounter(Player):\n",
        "    def __init__(self, name):\n",
        "        super().__init__(name)\n",
        "        self.threshold = -2\n",
        "        self.count = 0\n",
        "\n",
        "    def update_count(self, card):\n",
        "        self.count += card.card_value()\n",
        "\n",
        "    def decide(self):\n",
        "        return \"Hit\" if self.count <= self.threshold else \"Stay\"\n",
        "\n",
        "class Dealer(Player):\n",
        "    def decide(self):\n",
        "        hand_value = sum(card.card_value() for card in self.hand)\n",
        "        return \"Hit\" if hand_value < 17 else \"Stay\"\n",
        "\n",
        "def simulate_round(players, deck):\n",
        "    if len(deck) < (len(players) * 2 + 1):\n",
        "        return\n",
        "    for i in players:\n",
        "        player.hand = [deck.pop(), deck.pop()]\n",
        "\n",
        "    dealer = players[0]\n",
        "    dealer.hand.append(deck.pop())\n",
        "\n",
        "    for player in players[1:]:\n",
        "        while isinstance(player, CardCounter) and player.decide() == \"Hit\" and len(deck) > 0:\n",
        "            player.hand.append(deck.pop())\n",
        "    while isinstance(dealer, Dealer) and dealer.decide() == \"Hit\" and len(deck) > 0:\n",
        "        dealer.hand.append(deck.pop())\n",
        "    dealer_value = sum(card.card_value() for card in dealer.hand)\n",
        "    for player in players[1:]:\n",
        "        if isinstance(player,   CardCounter):\n",
        "            player_value = sum(card.card_value() for card in player.hand)\n",
        "            if player_value > 21 or (dealer_value <= 21 and dealer_value > player_value):\n",
        "                player.lose(player.bet())\n",
        "            elif player_value == dealer_value:\n",
        "                pass\n",
        "            else:\n",
        "                player.win(player.bet())"
      ],
      "metadata": {
        "id": "6EFMo2mT1poO"
      },
      "execution_count": 250,
      "outputs": []
    },
    {
      "cell_type": "code",
      "source": [
        "def simulate_game():\n",
        "\n",
        "\n",
        "    dealer = Dealer(\"Dealer\")\n",
        "    strategy_player =CardCounter(\"Strategy Player\")\n",
        "    other_players = [Player(f\"Player {i+1}\") for i in range(3)]\n",
        "    players = [dealer, strategy_player] + other_players\n",
        "    deck = [Card(suit, str(rank)) for suit in ['Hearts', 'Diamonds', 'Clubs', 'Spades'] for rank in range(1, 14)]\n",
        "    random.shuffle(deck)\n",
        "\n",
        "    rounds = 0\n",
        "\n",
        "    while rounds < 50 and strategy_player.chips > 0:\n",
        "        rounds += 1\n",
        "        simulate_round(players, deck)\n",
        "    return strategy_player.chips - 100\n",
        "\n",
        "winnings = simulate_game()\n",
        "print(\"Strategy Player's Winnings:\", winnings)"
      ],
      "metadata": {
        "colab": {
          "base_uri": "https://localhost:8080/",
          "height": 339
        },
        "id": "tHnTE82h172_",
        "outputId": "1aee0554-0d79-405f-f276-15bbef2478a8"
      },
      "execution_count": 252,
      "outputs": [
        {
          "output_type": "error",
          "ename": "UnboundLocalError",
          "evalue": "local variable 'player' referenced before assignment",
          "traceback": [
            "\u001b[0;31m---------------------------------------------------------------------------\u001b[0m",
            "\u001b[0;31mUnboundLocalError\u001b[0m                         Traceback (most recent call last)",
            "\u001b[0;32m<ipython-input-252-ddb161ff6bd2>\u001b[0m in \u001b[0;36m<cell line: 18>\u001b[0;34m()\u001b[0m\n\u001b[1;32m     16\u001b[0m     \u001b[0;32mreturn\u001b[0m \u001b[0mstrategy_player\u001b[0m\u001b[0;34m.\u001b[0m\u001b[0mchips\u001b[0m \u001b[0;34m-\u001b[0m \u001b[0;36m100\u001b[0m\u001b[0;34m\u001b[0m\u001b[0;34m\u001b[0m\u001b[0m\n\u001b[1;32m     17\u001b[0m \u001b[0;34m\u001b[0m\u001b[0m\n\u001b[0;32m---> 18\u001b[0;31m \u001b[0mwinnings\u001b[0m \u001b[0;34m=\u001b[0m \u001b[0msimulate_game\u001b[0m\u001b[0;34m(\u001b[0m\u001b[0;34m)\u001b[0m\u001b[0;34m\u001b[0m\u001b[0;34m\u001b[0m\u001b[0m\n\u001b[0m\u001b[1;32m     19\u001b[0m \u001b[0mprint\u001b[0m\u001b[0;34m(\u001b[0m\u001b[0;34m\"Strategy Player's Winnings:\"\u001b[0m\u001b[0;34m,\u001b[0m \u001b[0mwinnings\u001b[0m\u001b[0;34m)\u001b[0m\u001b[0;34m\u001b[0m\u001b[0;34m\u001b[0m\u001b[0m\n",
            "\u001b[0;32m<ipython-input-252-ddb161ff6bd2>\u001b[0m in \u001b[0;36msimulate_game\u001b[0;34m()\u001b[0m\n\u001b[1;32m     13\u001b[0m     \u001b[0;32mwhile\u001b[0m \u001b[0mrounds\u001b[0m \u001b[0;34m<\u001b[0m \u001b[0;36m50\u001b[0m \u001b[0;32mand\u001b[0m \u001b[0mstrategy_player\u001b[0m\u001b[0;34m.\u001b[0m\u001b[0mchips\u001b[0m \u001b[0;34m>\u001b[0m \u001b[0;36m0\u001b[0m\u001b[0;34m:\u001b[0m\u001b[0;34m\u001b[0m\u001b[0;34m\u001b[0m\u001b[0m\n\u001b[1;32m     14\u001b[0m         \u001b[0mrounds\u001b[0m \u001b[0;34m+=\u001b[0m \u001b[0;36m1\u001b[0m\u001b[0;34m\u001b[0m\u001b[0;34m\u001b[0m\u001b[0m\n\u001b[0;32m---> 15\u001b[0;31m         \u001b[0msimulate_round\u001b[0m\u001b[0;34m(\u001b[0m\u001b[0mplayers\u001b[0m\u001b[0;34m,\u001b[0m \u001b[0mdeck\u001b[0m\u001b[0;34m)\u001b[0m\u001b[0;34m\u001b[0m\u001b[0;34m\u001b[0m\u001b[0m\n\u001b[0m\u001b[1;32m     16\u001b[0m     \u001b[0;32mreturn\u001b[0m \u001b[0mstrategy_player\u001b[0m\u001b[0;34m.\u001b[0m\u001b[0mchips\u001b[0m \u001b[0;34m-\u001b[0m \u001b[0;36m100\u001b[0m\u001b[0;34m\u001b[0m\u001b[0;34m\u001b[0m\u001b[0m\n\u001b[1;32m     17\u001b[0m \u001b[0;34m\u001b[0m\u001b[0m\n",
            "\u001b[0;32m<ipython-input-250-9dfb3f7a612c>\u001b[0m in \u001b[0;36msimulate_round\u001b[0;34m(players, deck)\u001b[0m\n\u001b[1;32m     53\u001b[0m         \u001b[0;32mreturn\u001b[0m\u001b[0;34m\u001b[0m\u001b[0;34m\u001b[0m\u001b[0m\n\u001b[1;32m     54\u001b[0m     \u001b[0;32mfor\u001b[0m \u001b[0mi\u001b[0m \u001b[0;32min\u001b[0m \u001b[0mplayers\u001b[0m\u001b[0;34m:\u001b[0m\u001b[0;34m\u001b[0m\u001b[0;34m\u001b[0m\u001b[0m\n\u001b[0;32m---> 55\u001b[0;31m         \u001b[0mplayer\u001b[0m\u001b[0;34m.\u001b[0m\u001b[0mhand\u001b[0m \u001b[0;34m=\u001b[0m \u001b[0;34m[\u001b[0m\u001b[0mdeck\u001b[0m\u001b[0;34m.\u001b[0m\u001b[0mpop\u001b[0m\u001b[0;34m(\u001b[0m\u001b[0;34m)\u001b[0m\u001b[0;34m,\u001b[0m \u001b[0mdeck\u001b[0m\u001b[0;34m.\u001b[0m\u001b[0mpop\u001b[0m\u001b[0;34m(\u001b[0m\u001b[0;34m)\u001b[0m\u001b[0;34m]\u001b[0m\u001b[0;34m\u001b[0m\u001b[0;34m\u001b[0m\u001b[0m\n\u001b[0m\u001b[1;32m     56\u001b[0m \u001b[0;34m\u001b[0m\u001b[0m\n\u001b[1;32m     57\u001b[0m     \u001b[0mdealer\u001b[0m \u001b[0;34m=\u001b[0m \u001b[0mplayers\u001b[0m\u001b[0;34m[\u001b[0m\u001b[0;36m0\u001b[0m\u001b[0;34m]\u001b[0m\u001b[0;34m\u001b[0m\u001b[0;34m\u001b[0m\u001b[0m\n",
            "\u001b[0;31mUnboundLocalError\u001b[0m: local variable 'player' referenced before assignment"
          ]
        }
      ]
    },
    {
      "cell_type": "markdown",
      "metadata": {
        "id": "nqMN4VkNz8Vi"
      },
      "source": [
        "#8. Histrogram winnings\n"
      ]
    },
    {
      "cell_type": "code",
      "source": [
        "class Card:\n",
        "    def __init__(self, suit, rank):\n",
        "        self.suit = suit\n",
        "        self.rank = rank\n",
        "\n",
        "    def __repr__(self):\n",
        "        return f\"{self.rank} of {self.suit}\"\n",
        "\n",
        "    def card_value(self):\n",
        "        if self.rank in ('Ace', '2', '3', '4', '5', '6'):\n",
        "            return 1\n",
        "        elif self.rank in ('7', '8', '9'):\n",
        "            return 0\n",
        "        else:\n",
        "            return -1\n",
        "\n",
        "class Player:\n",
        "    def __init__(self, name, chips=100):\n",
        "        self.name = name\n",
        "        self.chips = chips\n",
        "        self.hand = []\n",
        "\n",
        "    def bet(self):\n",
        "        return 1\n",
        "\n",
        "    def win(self, amount):\n",
        "        self.chips += amount\n",
        "\n",
        "    def lose(self, amount):\n",
        "        self.chips -= amount\n",
        "\n",
        "class CardCounter(Player):\n",
        "    def __init__(self, name):\n",
        "        super().__init__(name)\n",
        "        self.threshold = -2\n",
        "        self.count = 0\n",
        "\n",
        "    def update_count(self, card):\n",
        "        self.count += card.card_value()\n",
        "\n",
        "    def decide(self):\n",
        "        return \"Hit\" if self.count <= self.threshold else \"Stay\"\n",
        "\n",
        "class Dealer(Player):\n",
        "    def decide(self):\n",
        "        hand_value = sum(card.card_value() for card in self.hand)\n",
        "        return \"Hit\" if hand_value < 17 else \"Stay\"\n",
        "\n",
        "def simulate_round(players, deck):\n",
        "    if len(deck) < (len(players) * 2 + 1):\n",
        "        return\n",
        "\n",
        "    for player in players:\n",
        "        player.hand = [deck.pop(), deck.pop()]\n",
        "\n",
        "    dealer = players[0]\n",
        "    dealer.hand.append(deck.pop())\n",
        "\n",
        "    for player in players[1:]:\n",
        "        while isinstance(player, CountingPlayer) and player.decide() == \"Hit\" and len(deck) > 0:\n",
        "            player.hand.append(deck.pop())\n",
        "\n",
        "    while isinstance(dealer, Dealer) and dealer.decide() == \"Hit\" and len(deck) > 0:\n",
        "        dealer.hand.append(deck.pop())\n",
        "\n",
        "    dealer_value = sum(card.card_value() for card in dealer.hand)\n",
        "    for player in players[1:]:\n",
        "        if isinstance(player, CountingPlayer):\n",
        "            player_value = sum(card.card_value() for card in player.hand)\n",
        "            if player_value > 21 or (dealer_value <= 21 and dealer_value > player_value):\n",
        "                player.lose(player.bet())\n",
        "            elif player_value == dealer_value:\n",
        "                pass\n",
        "            else:\n",
        "                player.win(player.bet())\n",
        "\n",
        "def simulate_game():\n",
        "    dealer = Dealer(\"Dealer\")\n",
        "    strategy_player = CardCounter(\"Strategy Player\")\n",
        "    other_players = [Player(f\"Player {i+1}\") for i in range(3)]\n",
        "    players = [dealer, strategy_player] + other_players\n",
        "    deck = [Card(suit, str(rank)) for suit in ['Hearts', 'Diamonds', 'Clubs', 'Spades'] for rank in range(1, 14)]\n",
        "    random.shuffle(deck)\n",
        "\n",
        "    rounds = 0\n",
        "    while rounds < 50 and strategy_player.chips > 0:\n",
        "        rounds += 1\n",
        "        simulate_round(players, deck)\n",
        "\n",
        "    return strategy_player.chips - 100"
      ],
      "metadata": {
        "id": "7voMf3Ef17YS"
      },
      "execution_count": 253,
      "outputs": []
    },
    {
      "cell_type": "code",
      "source": [
        "import matplotlib.pyplot as plt\n",
        "import numpy as np"
      ],
      "metadata": {
        "id": "RSThrSffXUSX"
      },
      "execution_count": 254,
      "outputs": []
    },
    {
      "cell_type": "code",
      "source": [
        "game_results = []\n",
        "for i in range(100):\n",
        "    winnings = simulate_game()\n",
        "    game_results.append(winnings)\n",
        "\n",
        "\n",
        "## plotting winnings\n",
        "plt.hist(game_results, bins=20, color='pink')\n",
        "plt.xlabel(\"Wins\")\n",
        "plt.ylabel(\"Frequency\")\n",
        "plt.title(\"Player's Winnings\")\n",
        "plt.show()\n",
        "\n",
        "# mean\n",
        "avg_win = np.mean(game_results) / 50\n",
        "print(\"Average Winnings per Round:\", avg_win)\n",
        "\n",
        "# stdev\n",
        "std_win = np.std(game_results)\n",
        "print(\"Standard Deviation of Winnings:\", std_win)\n",
        "\n",
        "# prob. of winning or losing after x rounds\n",
        "prob_win = sum(1 for result in game_results if result > 0) / len(game_results)\n",
        "prob_lost = sum(1 for result in game_results if result < 0) / len(game_results)\n",
        "print(\"Probability of Net Winning after playing 50 rounds:\", prob_win)\n",
        "print(\"Probability of Net Losing after playing 50 rounds:\", prob_lost)"
      ],
      "metadata": {
        "colab": {
          "base_uri": "https://localhost:8080/",
          "height": 541
        },
        "id": "yZ28X9ED2Oef",
        "outputId": "dc3b3422-c97c-49b2-ce36-dffbd3d0eed4"
      },
      "execution_count": 255,
      "outputs": [
        {
          "output_type": "display_data",
          "data": {
            "text/plain": [
              "<Figure size 640x480 with 1 Axes>"
            ],
            "image/png": "[encoded data removed]"
          },
          "metadata": {}
        },
        {
          "output_type": "stream",
          "name": "stdout",
          "text": [
            "Average Winnings per Round: 0.0\n",
            "Standard Deviation of Winnings: 0.0\n",
            "Probability of Net Winning after playing 50 rounds: 0.0\n",
            "Probability of Net Losing after playing 50 rounds: 0.0\n"
          ]
        }
      ]
    },
    {
      "cell_type": "markdown",
      "metadata": {
        "id": "NekvNxtbz8Vj"
      },
      "source": [
        "#9. Trying diff threshold values"
      ]
    },
    {
      "cell_type": "code",
      "source": [
        "class Card:\n",
        "    def __init__(self, suit, rank):\n",
        "        self.suit = suit\n",
        "        self.rank = rank\n",
        "\n",
        "    def card_value(self):\n",
        "        if self.rank in ('Ace', '2', '3', '4', '5', '6'):\n",
        "            return 1\n",
        "        elif self.rank in ('7', '8', '9'):\n",
        "            return 0\n",
        "        else:\n",
        "            return -1\n",
        "\n",
        "class Player:\n",
        "    def __init__(self, chips=100):\n",
        "        self.chips = chips\n",
        "\n",
        "    def bet(self):\n",
        "        return 1\n",
        "\n",
        "    def win(self, amount):\n",
        "        self.chips += amount\n",
        "\n",
        "    def lose(self, amount):\n",
        "        self.chips -= amount\n",
        "\n",
        "class CardCounter(Player):\n",
        "    def __init__(self, threshold):\n",
        "        super().__init__()\n",
        "        self.threshold = threshold\n",
        "        self.count = 0\n",
        "\n",
        "    def decide(self):\n",
        "        return \"Hit\" if self.count <= self.threshold else \"Stay\"\n",
        "\n",
        "class Dealer(Player):\n",
        "    def decide(self):\n",
        "        hand_value = sum(card.card_value() for card in self.hand)\n",
        "        return \"Hit\" if hand_value < 17 else \"Stay\"\n",
        "\n",
        "def simulate_round(players, deck):\n",
        "    for player in players:\n",
        "        player.hand = [deck.pop(), deck.pop()]\n",
        "\n",
        "    dealer = players[0]\n",
        "    dealer.hand.append(deck.pop())\n",
        "\n",
        "    for player in players[1:]:\n",
        "        while isinstance(player, CountingPlayer) and player.decide() == \"Hit\" and deck:\n",
        "            player.hand.append(deck.pop())\n",
        "\n",
        "    while isinstance(dealer, Dealer) and dealer.decide() == \"Hit\" and deck:\n",
        "        dealer.hand.append(deck.pop())\n",
        "\n",
        "    dealer_value = sum(card.card_value() for card in dealer.hand)\n",
        "    for player in players[1:]:\n",
        "        if isinstance(player, CountingPlayer):\n",
        "            player_value = sum(card.card_value() for card in player.hand)\n",
        "            if player_value > 21 or (dealer_value <= 21 and dealer_value > player_value):\n",
        "                player.lose(player.bet())\n",
        "            elif player_value != dealer_value:\n",
        "                player.win(player.bet())"
      ],
      "metadata": {
        "id": "m1FewPLz2RkX"
      },
      "execution_count": 256,
      "outputs": []
    },
    {
      "cell_type": "code",
      "source": [
        "def simulate_game(threshold):\n",
        "    dealer = Dealer()\n",
        "    strategy_player = CardCounter(threshold)\n",
        "    other_players = [Player() for i in range(3)]\n",
        "    players = [dealer, strategy_player] + other_players\n",
        "    deck = [Card(suit, str(rank)) for suit in ['Hearts', 'Diamonds', 'Clubs', 'Spades'] for rank in range(1, 14)]\n",
        "    random.shuffle(deck)\n",
        "\n",
        "    for i in range(50):\n",
        "        if deck:\n",
        "            simulate_round(players, deck)\n",
        "        else:\n",
        "            break\n",
        "\n",
        "    return strategy_player.chips - 100\n",
        "\n",
        "\n",
        "thres_vals = [-3, -2, -1, 0, 2]  # 1st Threshold values\n",
        "average_winnings_per_rounds = []\n",
        "\n",
        "for threshold in thres_vals:\n",
        "    game_results = [simulate_game(threshold) for i in range(100)] # 100 games for each threshold\n",
        "    avg_win = np.mean(game_results) / 50\n",
        "    average_winnings_per_rounds.append(avg_win)\n",
        "\n",
        "optimal_threshold_index = np.argmax(avg_win)\n",
        "optimal_threshold = thres_vals[optimal_threshold_index]\n",
        "\n",
        "print(\"Optimal Threshold Value:\", optimal_threshold)"
      ],
      "metadata": {
        "colab": {
          "base_uri": "https://localhost:8080/"
        },
        "id": "Wgp6em6G2YB5",
        "outputId": "7b9ba71a-e6c1-4157-edb2-56431d0c23db"
      },
      "execution_count": 268,
      "outputs": [
        {
          "output_type": "stream",
          "name": "stdout",
          "text": [
            "Optimal Threshold Value: -3\n"
          ]
        }
      ]
    },
    {
      "cell_type": "code",
      "source": [
        "thres_vals = [-4, -2, 0, 1, 2]  # 1st Threshold values\n",
        "avg_win = []\n",
        "\n",
        "for threshold in thres_vals:\n",
        "    game_results = [simulate_game(threshold) for _ in range(100)] # 100 games for each threshold\n",
        "    avg_win = np.mean(game_results) / 50\n",
        "    average_winnings_per_rounds.append(avg_win)\n",
        "\n",
        "optimal_threshold_index = np.argmax(avg_win)\n",
        "optimal_threshold = threshold_values[optimal_threshold_index]\n",
        "\n",
        "print(\"Optimal Threshold Value:\", optimal_threshold)"
      ],
      "metadata": {
        "colab": {
          "base_uri": "https://localhost:8080/"
        },
        "id": "LxY1IXMN2Zeo",
        "outputId": "a108c4f4-f364-479a-a584-4e0c2e409327"
      },
      "execution_count": 267,
      "outputs": [
        {
          "output_type": "stream",
          "name": "stdout",
          "text": [
            "Optimal Threshold Value: -5\n"
          ]
        }
      ]
    },
    {
      "cell_type": "code",
      "source": [
        "thres_vals = [-1, 0, 1, 2, 3]  # 1st Threshold values\n",
        "avg_win = []\n",
        "\n",
        "for threshold in thres_vals:\n",
        "    game_results = [simulate_game(threshold) for _ in range(100)] # 100 games for each threshold\n",
        "    avg_win = np.mean(game_results) / 50\n",
        "    average_winnings_per_rounds.append(avg_win)\n",
        "\n",
        "optimal_threshold_index = np.argmax(avg_win)\n",
        "optimal_threshold = threshold_values[optimal_threshold_index]\n",
        "\n",
        "print(\"Optimal Threshold Value:\", optimal_threshold)"
      ],
      "metadata": {
        "colab": {
          "base_uri": "https://localhost:8080/"
        },
        "id": "T_277_CL2edV",
        "outputId": "b59648b8-40c4-4e20-8678-0f7e0e57be27"
      },
      "execution_count": 266,
      "outputs": [
        {
          "output_type": "stream",
          "name": "stdout",
          "text": [
            "Optimal Threshold Value: -5\n"
          ]
        }
      ]
    },
    {
      "cell_type": "code",
      "source": [
        "thres_vals = [0, 1, 2, 3, 4, 5]\n",
        "avg_win = []\n",
        "\n",
        "for threshold in thres_vals:\n",
        "    game_results = [simulate_game(threshold) for _ in range(100)]\n",
        "    avg_win = np.mean(game_results) / 50\n",
        "    average_winnings_per_rounds.append(avg_win)\n",
        "\n",
        "optimal_threshold_index = np.argmax(avg_win)\n",
        "optimal_threshold = threshold_values[optimal_threshold_index]\n",
        "\n",
        "print(\"Optimal Threshold Value:\", optimal_threshold)"
      ],
      "metadata": {
        "colab": {
          "base_uri": "https://localhost:8080/"
        },
        "id": "GbBY1pTE2ha4",
        "outputId": "0732544f-ace6-4f5d-e399-d6e54a23be81"
      },
      "execution_count": 265,
      "outputs": [
        {
          "output_type": "stream",
          "name": "stdout",
          "text": [
            "Optimal Threshold Value: -5\n"
          ]
        }
      ]
    },
    {
      "cell_type": "code",
      "source": [
        "thres_vals = [-5, -4, -3, -2, -1]\n",
        "avg_win = []\n",
        "\n",
        "for threshold in thres_vals:\n",
        "    game_results = [simulate_game(threshold) for _ in range(100)]\n",
        "    avg_win = np.mean(game_results) / 50\n",
        "    average_winnings_per_rounds.append(avg_win)\n",
        "\n",
        "optimal_threshold_index = np.argmax(avg_win)\n",
        "optimal_threshold = threshold_values[optimal_threshold_index]\n",
        "\n",
        "print(\"Optimal Threshold Value:\", optimal_threshold)"
      ],
      "metadata": {
        "colab": {
          "base_uri": "https://localhost:8080/"
        },
        "id": "XIv0t8sS2igP",
        "outputId": "c237173b-f245-4000-c807-de68d4c6de07"
      },
      "execution_count": 264,
      "outputs": [
        {
          "output_type": "stream",
          "name": "stdout",
          "text": [
            "Optimal Threshold Value: -5\n"
          ]
        }
      ]
    },
    {
      "cell_type": "markdown",
      "metadata": {
        "id": "bHQLy-V5z8Vj"
      },
      "source": [
        "#10. Original Strategy"
      ]
    },
    {
      "cell_type": "code",
      "source": [
        "class Card:\n",
        "    def __init__(self, suit, rank):\n",
        "        self.suit, self.rank = suit, rank\n",
        "    def card_value(self):\n",
        "\n",
        "\n",
        "        return 1 if self.rank in '1357' else 0 if self.rank in '567' else -1\n",
        "\n",
        "class Player:\n",
        "    def __init__(self, chips=100):\n",
        "        self.chips = chips\n",
        "    def bet(self):\n",
        "        return 1\n",
        "    def win(self, amount):\n",
        "\n",
        "\n",
        "        self.chips += amount\n",
        "    def lose(self, amount):\n",
        "        self.chips -= amount\n",
        "\n",
        "class CountingPlayer(Player):\n",
        "    def __init__(self, threshold):\n",
        "        super().__init__()\n",
        "        self.threshold = threshold\n",
        "    def decide(self, hand_value):\n",
        "\n",
        "        return \"Stay\" if hand_value >= 18 else \"Hit\"\n",
        "\n",
        "class Dealer(Player):\n",
        "    def decide(self):\n",
        "        return \"Stay\" if sum(c.card_value() for c in self.hand) >= 17 else \"Hit\"\n",
        "\n",
        "def simulate_round(players, deck):\n",
        "    for player in players:\n",
        "        player.hand = [deck.pop() for _ in range(2)]\n",
        "    dealer = players[0]\n",
        "    dealer.hand.append(deck.pop())\n",
        "    for player in players[1:]:\n",
        "        while isinstance(player, CountingPlayer) and player.decide(sum(c.card_value() for c in player.hand)) == \"Hit\" and deck:\n",
        "            player.hand.append(deck.pop())\n",
        "\n",
        "\n",
        "    while isinstance(dealer, Dealer) and dealer.decide() == \"Hit\" and deck:\n",
        "        dealer.hand.append(deck.pop())\n",
        "    dealer_value = sum(c.card_value() for c in dealer.hand)\n",
        "    for player in players[1:]:\n",
        "        if isinstance(player, CountingPlayer):\n",
        "            player_value = sum(c.card_value() for c in player.hand)\n",
        "            if player_value > 21 or (dealer_value <= 21 and dealer_value > player_value):\n",
        "                player.lose(player.bet())\n",
        "            elif player_value != dealer_value:\n",
        "                player.win(player.bet())\n",
        "\n",
        "def simulate_game(threshold):\n",
        "    dealer = Dealer()\n",
        "    strategy_player = CountingPlayer(threshold)\n",
        "    other_players = [Player() for _ in range(3)]\n",
        "    players = [dealer, strategy_player] + other_players\n",
        "    deck = [Card(s, str(r)) for s in 'Hearts Diamonds Clubs Spades'.split() for r in range(1, 14)]\n",
        "    random.shuffle(deck)\n",
        "    for _ in range(50):\n",
        "        if deck:\n",
        "            simulate_round(players, deck)\n",
        "        else:\n",
        "            break\n",
        "    return strategy_player.chips - 100"
      ],
      "metadata": {
        "id": "wnn6Imil2nKD"
      },
      "execution_count": 262,
      "outputs": []
    },
    {
      "cell_type": "code",
      "source": [
        "thres_vals = [-5, -4, -3, -2, -1]\n",
        "avg_win_new= [np.mean([simulate_game(i) for j in range(100)]) / 50 for i in thres_vals]\n",
        "optimal_threshold = thres_vals[np.argmax(avg_win_new)]\n",
        "\n",
        "print(\"Improved Method's optimal threshold val:\", optimal_threshold)"
      ],
      "metadata": {
        "colab": {
          "base_uri": "https://localhost:8080/"
        },
        "id": "BS0A-CG92sL6",
        "outputId": "feaf683f-c1f8-4f2b-fd1a-c49bd393030e"
      },
      "execution_count": 263,
      "outputs": [
        {
          "output_type": "stream",
          "name": "stdout",
          "text": [
            "Improved Method's optimal threshold val: -5\n"
          ]
        }
      ]
    },
    {
      "cell_type": "markdown",
      "source": [
        "We have an improvement in our results"
      ],
      "metadata": {
        "id": "cLgfvffhTk5l"
      }
    }
  ],
  "metadata": {
    "kernelspec": {
      "display_name": "Python 3 (ipykernel)",
      "language": "python",
      "name": "python3"
    },
    "language_info": {
      "codemirror_mode": {
        "name": "ipython",
        "version": 3
      },
      "file_extension": ".py",
      "mimetype": "text/x-python",
      "name": "python",
      "nbconvert_exporter": "python",
      "pygments_lexer": "ipython3",
      "version": "3.9.6"
    },
    "colab": {
      "provenance": []
    }
  },
  "nbformat": 4,
  "nbformat_minor": 0
}